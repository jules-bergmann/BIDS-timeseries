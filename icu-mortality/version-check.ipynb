{
 "cells": [
  {
   "cell_type": "markdown",
   "id": "d2303d49-cd57-45fe-91f0-b0833680ab34",
   "metadata": {},
   "source": [
    "# Version Check"
   ]
  },
  {
   "cell_type": "markdown",
   "id": "93b9e2af-6a2e-4335-83e4-58f2a88dc54d",
   "metadata": {},
   "source": [
    "Outline\n",
    "- Introduction\n",
    "- Data Cleaning\n",
    "- Data Management\n",
    "  - Train/Test/Validation split\n",
    "- Building Blocks\n",
    "  - Feature construction\n",
    "  - Feature EDA\n",
    "  - Model Construction\n",
    "  - Model Performance\n",
    "  - Model Analysis\n",
    "- Exploratory Data Analysis"
   ]
  },
  {
   "cell_type": "code",
   "execution_count": 1,
   "id": "d398e8e4-23b8-4163-9fa8-5a09af4036a1",
   "metadata": {
    "tags": []
   },
   "outputs": [],
   "source": [
    "import sys, os, math\n",
    "from pathlib import Path\n",
    "\n",
    "import pandas as pd\n",
    "import numpy  as np\n",
    "\n",
    "import matplotlib\n",
    "import matplotlib.pyplot as plt\n",
    "import seaborn as sns"
   ]
  },
  {
   "cell_type": "code",
   "execution_count": 2,
   "id": "45808e2a-584d-40d0-ac09-d4181c8dacc0",
   "metadata": {
    "tags": []
   },
   "outputs": [],
   "source": [
    "from sklearn import metrics\n",
    "\n",
    "from sklearn.model_selection import train_test_split\n",
    "from sklearn.preprocessing import StandardScaler\n",
    "from sklearn.impute import SimpleImputer\n",
    "\n",
    "from sklearn.linear_model import LogisticRegression\n",
    "from sklearn.ensemble import HistGradientBoostingClassifier, RandomForestClassifier\n",
    "from sklearn.svm import SVC\n",
    "\n",
    "from sklearn.metrics import roc_auc_score, confusion_matrix, RocCurveDisplay\n",
    "from sklearn.inspection import permutation_importance, PartialDependenceDisplay\n",
    "\n",
    "from scipy.stats import pearsonr\n",
    "import sklearn"
   ]
  },
  {
   "cell_type": "code",
   "execution_count": 3,
   "id": "8769b830-c9c7-485c-8fda-171681cf5b92",
   "metadata": {
    "tags": []
   },
   "outputs": [],
   "source": [
    "from xgboost import XGBClassifier\n",
    "import xgboost\n",
    "import shap"
   ]
  },
  {
   "cell_type": "code",
   "execution_count": 4,
   "id": "0b3e7f66-3f2f-4475-8558-6731b7bf6e17",
   "metadata": {
    "tags": []
   },
   "outputs": [],
   "source": [
    "#import scipy.stats as stats\n",
    "#from sklego.linear_model import LowessRegression"
   ]
  },
  {
   "cell_type": "code",
   "execution_count": 5,
   "id": "b8726ec4-0c11-45da-a5b3-e8073d7b51df",
   "metadata": {
    "tags": []
   },
   "outputs": [
    {
     "name": "stdout",
     "output_type": "stream",
     "text": [
      "python : 3.10.10 | packaged by conda-forge | (main, Mar 24 2023, 20:08:06) [GCC 11.3.0]\n",
      "pandas : 2.0.1\n",
      "numpy  : 1.22.3\n",
      "MPL    : 3.7.1\n",
      "SNS    : 0.12.2\n",
      "sklearn: 1.2.2\n",
      "shap   : 0.41.0\n",
      "xgboost: 1.7.6\n"
     ]
    }
   ],
   "source": [
    "print(f'python : {sys.version}')\n",
    "print(f'pandas : {pd.__version__}')\n",
    "print(f'numpy  : {np.__version__}')\n",
    "print(f'MPL    : {matplotlib.__version__}')\n",
    "print(f'SNS    : {sns.__version__}')\n",
    "print(f'sklearn: {sklearn.__version__}')\n",
    "print(f'shap   : {shap.__version__}')\n",
    "print(f'xgboost: {xgboost.__version__}')"
   ]
  },
  {
   "cell_type": "markdown",
   "id": "65a1ee4c-f538-4c5c-8cf9-ed7468683945",
   "metadata": {},
   "source": [
    "SageMaker\n",
    "```\n",
    "python : 3.10.10 | packaged by conda-forge | (main, Mar 24 2023, 20:08:06) [GCC 11.3.0]\n",
    "pandas : 2.0.1\n",
    "numpy  : 1.22.3\n",
    "MPL    : 3.7.1\n",
    "SNS    : 0.12.2\n",
    "sklearn: 1.2.2\n",
    "shap   : 0.41.0\n",
    "xgboost: 1.7.6\n",
    "```"
   ]
  },
  {
   "cell_type": "code",
   "execution_count": 6,
   "id": "d5c6fbc8-b964-4085-9220-d737fbdb0265",
   "metadata": {
    "tags": []
   },
   "outputs": [
    {
     "name": "stdout",
     "output_type": "stream",
     "text": [
      "\n",
      "System:\n",
      "    python: 3.10.10 | packaged by conda-forge | (main, Mar 24 2023, 20:08:06) [GCC 11.3.0]\n",
      "executable: /home/ec2-user/anaconda3/envs/python3/bin/python\n",
      "   machine: Linux-5.10.198-187.748.amzn2.x86_64-x86_64-with-glibc2.26\n",
      "\n",
      "Python dependencies:\n",
      "      sklearn: 1.2.2\n",
      "          pip: 23.1.2\n",
      "   setuptools: 67.7.2\n",
      "        numpy: 1.22.3\n",
      "        scipy: 1.10.1\n",
      "       Cython: 0.29.34\n",
      "       pandas: 2.0.1\n",
      "   matplotlib: 3.7.1\n",
      "       joblib: 1.2.0\n",
      "threadpoolctl: 3.1.0\n",
      "\n",
      "Built with OpenMP: True\n",
      "\n",
      "threadpoolctl info:\n",
      "       user_api: blas\n",
      "   internal_api: mkl\n",
      "         prefix: libmkl_rt\n",
      "       filepath: /home/ec2-user/anaconda3/envs/python3/lib/libmkl_rt.so.2\n",
      "        version: 2023.1-Product\n",
      "threading_layer: intel\n",
      "    num_threads: 18\n",
      "\n",
      "       user_api: openmp\n",
      "   internal_api: openmp\n",
      "         prefix: libomp\n",
      "       filepath: /home/ec2-user/anaconda3/envs/python3/lib/libomp.so\n",
      "        version: None\n",
      "    num_threads: 18\n",
      "\n",
      "       user_api: blas\n",
      "   internal_api: openblas\n",
      "         prefix: libopenblas\n",
      "       filepath: /home/ec2-user/anaconda3/envs/python3/lib/libopenblasp-r0.3.21.so\n",
      "        version: 0.3.21\n",
      "threading_layer: pthreads\n",
      "   architecture: SkylakeX\n",
      "    num_threads: 36\n",
      "\n",
      "       user_api: openmp\n",
      "   internal_api: openmp\n",
      "         prefix: libgomp\n",
      "       filepath: /home/ec2-user/anaconda3/envs/python3/lib/python3.10/site-packages/torch/lib/libgomp-a34b3233.so.1\n",
      "        version: None\n",
      "    num_threads: 36\n"
     ]
    }
   ],
   "source": [
    "sklearn.show_versions()"
   ]
  },
  {
   "cell_type": "code",
   "execution_count": null,
   "id": "94d5b412-ce55-4ce7-800f-34d6124f23fb",
   "metadata": {},
   "outputs": [],
   "source": []
  },
  {
   "cell_type": "code",
   "execution_count": null,
   "id": "33bed959-1afc-490b-bd72-c89839da079e",
   "metadata": {},
   "outputs": [],
   "source": []
  },
  {
   "cell_type": "code",
   "execution_count": null,
   "id": "68fe6f58-90cf-4cf6-844c-3642599185ae",
   "metadata": {},
   "outputs": [],
   "source": []
  }
 ],
 "metadata": {
  "kernelspec": {
   "display_name": "conda_python3",
   "language": "python",
   "name": "conda_python3"
  },
  "language_info": {
   "codemirror_mode": {
    "name": "ipython",
    "version": 3
   },
   "file_extension": ".py",
   "mimetype": "text/x-python",
   "name": "python",
   "nbconvert_exporter": "python",
   "pygments_lexer": "ipython3",
   "version": "3.10.10"
  }
 },
 "nbformat": 4,
 "nbformat_minor": 5
}
