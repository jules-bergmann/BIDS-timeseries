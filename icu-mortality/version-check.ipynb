{
 "cells": [
  {
   "cell_type": "markdown",
   "metadata": {},
   "source": [
    "# Version Check"
   ]
  },
  {
   "cell_type": "markdown",
   "metadata": {},
   "source": [
    "Outline\n",
    "- Introduction\n",
    "- Data Cleaning\n",
    "- Data Management\n",
    "  - Train/Test/Validation split\n",
    "- Building Blocks\n",
    "  - Feature construction\n",
    "  - Feature EDA\n",
    "  - Model Construction\n",
    "  - Model Performance\n",
    "  - Model Analysis\n",
    "- Exploratory Data Analysis"
   ]
  },
  {
   "cell_type": "code",
   "execution_count": null,
   "metadata": {
    "tags": []
   },
   "outputs": [],
   "source": [
    "import sys, os, math\n",
    "from pathlib import Path\n",
    "\n",
    "import pandas as pd\n",
    "import numpy  as np\n",
    "\n",
    "import matplotlib\n",
    "import matplotlib.pyplot as plt\n",
    "import seaborn as sns"
   ]
  },
  {
   "cell_type": "code",
   "execution_count": null,
   "metadata": {
    "tags": []
   },
   "outputs": [],
   "source": [
    "from sklearn import metrics\n",
    "\n",
    "from sklearn.model_selection import train_test_split\n",
    "from sklearn.preprocessing import StandardScaler\n",
    "from sklearn.impute import SimpleImputer\n",
    "\n",
    "from sklearn.linear_model import LogisticRegression\n",
    "#from sklearn.ensemble import HistGradientBoostingClassifier # missing on crunchr\n",
    "from sklearn.ensemble import RandomForestClassifier\n",
    "from sklearn.svm import SVC\n",
    "\n",
    "from sklearn.metrics import roc_auc_score, confusion_matrix, RocCurveDisplay\n",
    "from sklearn.inspection import permutation_importance, PartialDependenceDisplay\n",
    "\n",
    "from scipy.stats import pearsonr\n",
    "import sklearn"
   ]
  },
  {
   "cell_type": "code",
   "execution_count": null,
   "metadata": {
    "tags": []
   },
   "outputs": [],
   "source": [
    "#from xgboost import XGBClassifier\n",
    "#import xgboost # missing on crunchr-fresh\n",
    "#import shap # missing on cruchr"
   ]
  },
  {
   "cell_type": "code",
   "execution_count": null,
   "metadata": {
    "tags": []
   },
   "outputs": [],
   "source": [
    "print(f'python : {sys.version}')\n",
    "print(f'pandas : {pd.__version__}')\n",
    "print(f'numpy  : {np.__version__}')\n",
    "print(f'MPL    : {matplotlib.__version__}')\n",
    "print(f'SNS    : {sns.__version__}')\n",
    "print(f'sklearn: {sklearn.__version__}')\n",
    "#print(f'shap   : {shap.__version__}')\n",
    "#print(f'xgboost: {xgboost.__version__}')"
   ]
  },
  {
   "cell_type": "markdown",
   "metadata": {},
   "source": [
    "SageMaker\n",
    "```\n",
    "python : 3.10.10 | packaged by conda-forge | (main, Mar 24 2023, 20:08:06) [GCC 11.3.0]\n",
    "pandas : 2.0.1\n",
    "numpy  : 1.22.3\n",
    "MPL    : 3.7.1\n",
    "SNS    : 0.12.2\n",
    "sklearn: 1.2.2\n",
    "shap   : 0.41.0\n",
    "xgboost: 1.7.6\n",
    "```\n",
    "\n",
    "Bootleg Crunchr (After conda install wfdb!!!)\n",
    "```\n",
    "python : 3.8.5 | packaged by conda-forge | (default, Aug 29 2020, 01:22:49) \n",
    "[GCC 7.5.0]\n",
    "pandas : 1.3.5\n",
    "numpy  : 1.20.3\n",
    "MPL    : 3.3.1\n",
    "SNS    : 0.11.0\n",
    "sklearn: 0.23.2\n",
    "xgboost: 2.0.2\n",
    "```\n",
    "\n",
    "Fresh Crunchr\n",
    "```\n",
    "python : 3.8.5 | packaged by conda-forge | (default, Aug 29 2020, 01:22:49) \n",
    "[GCC 7.5.0]\n",
    "pandas : 1.1.2\n",
    "numpy  : 1.18.5\n",
    "MPL    : 3.3.1\n",
    "SNS    : 0.11.0\n",
    "sklearn: 0.23.2\n",
    "```"
   ]
  },
  {
   "cell_type": "code",
   "execution_count": null,
   "metadata": {
    "tags": []
   },
   "outputs": [],
   "source": [
    "sklearn.show_versions()"
   ]
  },
  {
   "cell_type": "markdown",
   "metadata": {},
   "source": [
    "SageMaker\n",
    "```\n",
    "System:\n",
    "    python: 3.10.10 | packaged by conda-forge | (main, Mar 24 2023, 20:08:06) [GCC 11.3.0]\n",
    "executable: /home/ec2-user/anaconda3/envs/python3/bin/python\n",
    "   machine: Linux-5.10.198-187.748.amzn2.x86_64-x86_64-with-glibc2.26\n",
    "\n",
    "Python dependencies:\n",
    "      sklearn: 1.2.2\n",
    "          pip: 23.1.2\n",
    "   setuptools: 67.7.2\n",
    "        numpy: 1.22.3\n",
    "        scipy: 1.10.1\n",
    "       Cython: 0.29.34\n",
    "       pandas: 2.0.1\n",
    "   matplotlib: 3.7.1\n",
    "       joblib: 1.2.0\n",
    "threadpoolctl: 3.1.0\n",
    "\n",
    "Built with OpenMP: True\n",
    "\n",
    "threadpoolctl info:\n",
    "       user_api: blas\n",
    "   internal_api: mkl\n",
    "         prefix: libmkl_rt\n",
    "       filepath: /home/ec2-user/anaconda3/envs/python3/lib/libmkl_rt.so.2\n",
    "        version: 2023.1-Product\n",
    "threading_layer: intel\n",
    "    num_threads: 18\n",
    "\n",
    "       user_api: openmp\n",
    "   internal_api: openmp\n",
    "         prefix: libomp\n",
    "       filepath: /home/ec2-user/anaconda3/envs/python3/lib/libomp.so\n",
    "        version: None\n",
    "    num_threads: 18\n",
    "\n",
    "       user_api: blas\n",
    "   internal_api: openblas\n",
    "         prefix: libopenblas\n",
    "       filepath: /home/ec2-user/anaconda3/envs/python3/lib/libopenblasp-r0.3.21.so\n",
    "        version: 0.3.21\n",
    "threading_layer: pthreads\n",
    "   architecture: SkylakeX\n",
    "    num_threads: 36\n",
    "\n",
    "       user_api: openmp\n",
    "   internal_api: openmp\n",
    "         prefix: libgomp\n",
    "       filepath: /home/ec2-user/anaconda3/envs/python3/lib/python3.10/site-packages/torch/lib/libgomp-a34b3233.so.1\n",
    "        version: None\n",
    "    num_threads: 36\n",
    "```\n",
    "\n",
    "Bootleg Crunchr\n",
    "```\n",
    "\n",
    "System:\n",
    "    python: 3.8.5 | packaged by conda-forge | (default, Aug 29 2020, 01:22:49)  [GCC 7.5.0]\n",
    "executable: /home/idies/miniconda3/bin/python\n",
    "   machine: Linux-4.18.0-348.20.1.el8_5.x86_64-x86_64-with-glibc2.10\n",
    "\n",
    "Python dependencies:\n",
    "          pip: 20.2.3\n",
    "   setuptools: 49.6.0.post20200814\n",
    "      sklearn: 0.23.2\n",
    "        numpy: 1.20.3\n",
    "        scipy: 1.5.2\n",
    "       Cython: 0.29.21\n",
    "       pandas: 1.3.5\n",
    "   matplotlib: 3.3.1\n",
    "       joblib: 0.16.0\n",
    "threadpoolctl: 2.1.0\n",
    "\n",
    "Built with OpenMP: True\n",
    "```\n",
    "\n",
    "Fresh Crunchr\n",
    "```\n",
    "System:\n",
    "    python: 3.8.5 | packaged by conda-forge | (default, Aug 29 2020, 01:22:49)  [GCC 7.5.0]\n",
    "executable: /home/idies/miniconda3/bin/python\n",
    "   machine: Linux-3.10.0-1160.53.1.el7.x86_64-x86_64-with-glibc2.10\n",
    "\n",
    "Python dependencies:\n",
    "          pip: 20.2.3\n",
    "   setuptools: 49.6.0.post20200814\n",
    "      sklearn: 0.23.2\n",
    "        numpy: 1.18.5\n",
    "        scipy: 1.5.2\n",
    "       Cython: 0.29.21\n",
    "       pandas: 1.1.2\n",
    "   matplotlib: 3.3.1\n",
    "       joblib: 0.16.0\n",
    "threadpoolctl: 2.1.0\n",
    "\n",
    "Built with OpenMP: True\n",
    "```"
   ]
  },
  {
   "cell_type": "code",
   "execution_count": null,
   "metadata": {},
   "outputs": [],
   "source": []
  }
 ],
 "metadata": {
  "kernelspec": {
   "display_name": "Python 3",
   "language": "python",
   "name": "python3"
  },
  "language_info": {
   "codemirror_mode": {
    "name": "ipython",
    "version": 3
   },
   "file_extension": ".py",
   "mimetype": "text/x-python",
   "name": "python",
   "nbconvert_exporter": "python",
   "pygments_lexer": "ipython3",
   "version": "3.8.5"
  }
 },
 "nbformat": 4,
 "nbformat_minor": 5
}
