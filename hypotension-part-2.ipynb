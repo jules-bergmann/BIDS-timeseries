{
 "cells": [
  {
   "cell_type": "markdown",
   "metadata": {},
   "source": [
    "# BIDS - Hypotension Prediction from Vital Signs - Part 2\n",
    "\n",
    "Physiologic Time Series Data\n",
    "\n",
    "History\n",
    "- 11/28/2022 modified for 2022 BIDS CDA class\n",
    "- 12/27/2023 updated for 2023 BIDS CDA class\n",
    "\n",
    "Objectives\n",
    "- Physiologic Time Series Data\n",
    "   - Sources\n",
    "   - Meaning\n",
    "   - Numerics vs Waveforms\n",
    "   \n",
    "References\n",
    " - Yoon Critical Care 2020;24:661\n",
    " - Lee Biomedical Engineering Online 2010;9:62"
   ]
  },
  {
   "cell_type": "code",
   "execution_count": null,
   "metadata": {},
   "outputs": [],
   "source": [
    "import requests\n",
    "def sub_ans(team,question_num,answer):\n",
    "    url='https://bids-class.azurewebsites.net/submit-answer'\n",
    "    data={'class':'cda',\n",
    "         'module':12,\n",
    "         'team':team,\n",
    "         'question_num':question_num,\n",
    "         'answer_num':answer}\n",
    "    x=requests.post(url,data=data)\n",
    "    if x.status_code==200:\n",
    "        return True\n",
    "    else:\n",
    "        return False\n",
    "    \n",
    "# work around, old versions of python missing new string method in python 3.9\n",
    "def removesuffix(string, suffix):\n",
    "    assert string.endswith(suffix)\n",
    "    return string[:-len(suffix)]\n",
    "assert removesuffix(\"foo.hea\", \".hea\") == \"foo\""
   ]
  },
  {
   "cell_type": "code",
   "execution_count": null,
   "metadata": {},
   "outputs": [],
   "source": [
    "team_name = 'blank'"
   ]
  },
  {
   "cell_type": "code",
   "execution_count": null,
   "metadata": {},
   "outputs": [],
   "source": [
    "def ELLIPSIS(x): return x"
   ]
  },
  {
   "cell_type": "code",
   "execution_count": null,
   "metadata": {},
   "outputs": [],
   "source": [
    "from datetime import date, datetime, timedelta\n",
    "from dateutil import parser\n",
    "\n",
    "import pandas as pd\n",
    "import numpy as np\n",
    "\n",
    "import matplotlib\n",
    "import matplotlib.pyplot as plt\n",
    "\n",
    "pd.options.display.width = 200\n",
    "pd.options.display.max_colwidth = 100\n",
    "pd.set_option('display.float_format', lambda x: '%.2f' % x)\n",
    "pd.options.display.max_rows = 150"
   ]
  },
  {
   "cell_type": "markdown",
   "metadata": {},
   "source": [
    "***"
   ]
  },
  {
   "cell_type": "markdown",
   "metadata": {},
   "source": [
    "### Load Physiologic Time Series Data\n",
    "\n",
    "We're using data from the MIMIC-III Waveform Database Matched Subset.\n",
    "\n",
    "https://physionet.org/content/mimic3wdb-matched/1.0/\n",
    "\n",
    "It contains:\n",
    "- waveforms: continuously sampled signals at 60-250 Hz, such as EKG\n",
    "- numerics: numeric values computed from waveforms at 0.16-1 Hz, such as HR computed from an EKG.\n",
    "\n",
    "MIT/PhysioNet defines a format and provides a library for working with these signals.  Before importing it, use pip to install it:"
   ]
  },
  {
   "cell_type": "code",
   "execution_count": null,
   "metadata": {},
   "outputs": [],
   "source": [
    "#Already# !conda install -y wfdb"
   ]
  },
  {
   "cell_type": "markdown",
   "metadata": {},
   "source": [
    "Now import wfdb"
   ]
  },
  {
   "cell_type": "code",
   "execution_count": null,
   "metadata": {},
   "outputs": [],
   "source": [
    "import wfdb"
   ]
  },
  {
   "cell_type": "markdown",
   "metadata": {},
   "source": [
    "Now, pull down some data files"
   ]
  },
  {
   "cell_type": "code",
   "execution_count": null,
   "metadata": {},
   "outputs": [],
   "source": [
    "num_data = [\n",
    "    'p00/p000020/3544749n.dat',\n",
    "\n",
    "    'p00/p000079/3842928n.dat',\n",
    "    'p00/p000079/3887555n.dat',\n",
    "\n",
    "    'p00/p000109/3002540n.dat',\n",
    "    'p00/p000123/3348632n.dat',\n",
    "    'p00/p000123/3485814n.dat',\n",
    "\n",
    "    'p00/p000124/3255538n.dat',\n",
    "    'p00/p000124/3526846n.dat',\n",
    "    'p00/p000124/3644535n.dat',\n",
    "    'p00/p000124/3776642n.dat',\n",
    "    'p00/p000124/3807277n.dat',\n",
    "    'p00/p000124/3931528n.dat',\n",
    "    'p00/p000124/3972293n.dat',\n",
    "    'p00/p000124/3991520n.dat',\n",
    "]\n",
    "\n",
    "num_hdrs = [\n",
    "    'p00/p000020/p000020-2183-04-28-17-47n.hea',\n",
    "    'p00/p000079/p000079-2175-09-26-01-25n.hea',\n",
    "    'p00/p000079/p000079-2175-09-26-12-28n.hea',\n",
    "    'p00/p000123/p000123-2161-10-29-03-01n.hea',\n",
    "    #'p00/p000123/p000123-2161-10-30-12-58n.hea',\n",
    "    'p00/p000124/p000124-2160-07-05-18-27n.hea',\n",
    "    'p00/p000124/p000124-2160-07-05-21-51n.hea',\n",
    "    'p00/p000124/p000124-2160-07-06-15-23n.hea',\n",
    "    #'p00/p000124/p000124-2160-07-11-12-21n.hea',\n",
    "    #'p00/p000124/p000124-2160-07-14-01-20n.hea',\n",
    "    #'p00/p000124/p000124-2166-01-09-13-03n.hea',\n",
    "    #'p00/p000124/p000124-2166-01-11-23-28n.hea',\n",
    "    #'p00/p000124/p000124-2166-01-23-10-43n.hea',\n",
    "]\n",
    "    \n",
    "wave_data = [\n",
    "    'p00/p000020/3544749_0001.dat',\n",
    "    'p00/p000020/3544749_0001.hea',\n",
    "    'p00/p000020/3544749_0002.dat',\n",
    "    'p00/p000020/3544749_0002.hea',\n",
    "    'p00/p000020/3544749_0003.dat',\n",
    "    'p00/p000020/3544749_0003.hea',\n",
    "    'p00/p000020/3544749_0004.dat',\n",
    "    'p00/p000020/3544749_0004.hea',\n",
    "    'p00/p000020/3544749_0005.dat',\n",
    "    'p00/p000020/3544749_0005.hea',\n",
    "    'p00/p000020/3544749_0006.dat',\n",
    "    'p00/p000020/3544749_0006.hea',\n",
    "    'p00/p000020/3544749_0007.dat',\n",
    "    'p00/p000020/3544749_0007.hea',\n",
    "    'p00/p000020/3544749_0008.dat',\n",
    "    'p00/p000020/3544749_0008.hea',\n",
    "    'p00/p000020/3544749_layout.hea',\n",
    "]\n",
    "    \n",
    "wave_hdrs = [\n",
    "    'p00/p000020/p000020-2183-04-28-17-47.hea',\n",
    "]\n",
    "    \n",
    "dl_dir = '.'\n",
    "\n",
    "#\n",
    "# Only have to download once.\n",
    "#\n",
    "# However, wfdb.dl_files is smart and only re-downloads if file is missing\n",
    "# or has different size ...\n",
    "#\n",
    "if 0:\n",
    "    wfdb.dl_files('mimic3wdb-matched', dl_dir, num_data)\n",
    "    wfdb.dl_files('mimic3wdb-matched', dl_dir, num_hdrs)\n",
    "\n",
    "    wfdb.dl_files('mimic3wdb-matched', dl_dir, wave_data)\n",
    "    wfdb.dl_files('mimic3wdb-matched', dl_dir, wave_hdrs)"
   ]
  },
  {
   "cell_type": "markdown",
   "metadata": {},
   "source": [
    "## Load Data"
   ]
  },
  {
   "cell_type": "markdown",
   "metadata": {},
   "source": [
    "Load numeric data into memory"
   ]
  },
  {
   "cell_type": "code",
   "execution_count": null,
   "metadata": {},
   "outputs": [],
   "source": [
    "num_recs = [wfdb.rdrecord(removesuffix(_, '.hea')) for _ in num_hdrs]"
   ]
  },
  {
   "cell_type": "markdown",
   "metadata": {},
   "source": [
    "## Part 1"
   ]
  },
  {
   "cell_type": "markdown",
   "metadata": {},
   "source": [
    "### Numerics"
   ]
  },
  {
   "cell_type": "markdown",
   "metadata": {},
   "source": [
    "Get the first rec"
   ]
  },
  {
   "cell_type": "code",
   "execution_count": null,
   "metadata": {},
   "outputs": [],
   "source": [
    "rec = num_recs[0]"
   ]
  },
  {
   "cell_type": "markdown",
   "metadata": {},
   "source": [
    "What is `rec`?  (Hint, use the `?`)\n",
    "\n",
    "```\n",
    "rec?\n",
    "```"
   ]
  },
  {
   "cell_type": "code",
   "execution_count": null,
   "metadata": {},
   "outputs": [],
   "source": [
    "rec?"
   ]
  },
  {
   "cell_type": "markdown",
   "metadata": {},
   "source": [
    "<hr>\n",
    "\n",
    "##### Q1\n",
    "\n",
    "How many signals are in this record?"
   ]
  },
  {
   "cell_type": "code",
   "execution_count": null,
   "metadata": {},
   "outputs": [],
   "source": [
    "# Your answer\n",
    "print(rec.n_sig)\n",
    "print(rec.p_signal.shape)\n",
    "print(rec.p_signal.shape[1])"
   ]
  },
  {
   "cell_type": "code",
   "execution_count": null,
   "metadata": {},
   "outputs": [],
   "source": [
    "sub_ans(team_name,1, 15)"
   ]
  },
  {
   "cell_type": "markdown",
   "metadata": {},
   "source": [
    "<details>\n",
    "\n",
    "<summary>\n",
    "  <div class=\"alert alert-block alert-info\">\n",
    "    Solution: Find number of signals\n",
    "  </div>\n",
    "</summary>\n",
    "\n",
    "```python\n",
    "#\n",
    "# Approach #1: use n_sig\n",
    "#\n",
    "rec.n_sig\n",
    "\n",
    "#\n",
    "# Approach #2: query shape of signal array `p_signal`\n",
    "#\n",
    "rec.p_signal.shape\n",
    "\n",
    "#\n",
    "# Or more exactly, find the number of columns:\n",
    "#\n",
    "rec.p_signal.shape[1]\n",
    "\n",
    "#\n",
    "# Approach #3: length of signal names\n",
    "#\n",
    "len(rec.sig_name)\n",
    "```\n",
    "</details>"
   ]
  },
  {
   "cell_type": "markdown",
   "metadata": {},
   "source": [
    "***"
   ]
  },
  {
   "cell_type": "markdown",
   "metadata": {},
   "source": [
    "### Create a Pandas DataFrame"
   ]
  },
  {
   "cell_type": "markdown",
   "metadata": {},
   "source": [
    "Load the first rec into a Pandas DataFrame named \n",
    "- `rec.p_signal` is a numpy array\n",
    "- `rec.sig_name` defines the signal (aka column) names\n",
    "\n",
    "We'll also limit to just the HR (EKG), Pulse (HR from Arterial line), RESP, and Arterial BP signals"
   ]
  },
  {
   "cell_type": "code",
   "execution_count": null,
   "metadata": {},
   "outputs": [],
   "source": [
    "#\n",
    "# Create a function to convert record into dataframe\n",
    "#\n",
    "def create_df_from_record(rec):\n",
    "    \"\"\"\n",
    "    Create a pandas datafrom from a wfdb record\n",
    "    \n",
    "    Args\n",
    "     - rec - wfdb record\n",
    "     \n",
    "    Returns a pandas dataframe with one column for each signal, \n",
    "      plus a 'dt' column with the datetime of each sample\n",
    "    \"\"\"\n",
    "    df = pd.DataFrame(rec.p_signal, columns=rec.sig_name)\n",
    "    \n",
    "    #\n",
    "    # Find timestamp at each sample:\n",
    "    #   timestamp = base_date + (sample number / frequency)\n",
    "    #\n",
    "    if np.isclose(rec.fs, 1/60):\n",
    "        # avoid floating-point rounding for q1m data\n",
    "        delta = pd.Series(range(df.shape[0])) * 60\n",
    "    else:\n",
    "        delta = pd.Series(range(df.shape[0])) / rec.fs\n",
    "        \n",
    "    df['dt'] = rec.base_datetime + pd.to_timedelta(delta, unit='seconds')\n",
    "    \n",
    "    return df"
   ]
  },
  {
   "cell_type": "code",
   "execution_count": null,
   "metadata": {},
   "outputs": [],
   "source": [
    "?create_df_from_record"
   ]
  },
  {
   "cell_type": "code",
   "execution_count": null,
   "metadata": {},
   "outputs": [],
   "source": [
    "#\n",
    "# create record of numerics\n",
    "#\n",
    "df_raw = create_df_from_record(rec)\n",
    "df_raw = df_raw[['dt', 'HR', 'PULSE', 'RESP', 'ABPSys', 'ABPDias', 'ABPMean', 'SpO2']]"
   ]
  },
  {
   "cell_type": "code",
   "execution_count": null,
   "metadata": {},
   "outputs": [],
   "source": [
    "df_raw.head()"
   ]
  },
  {
   "cell_type": "markdown",
   "metadata": {},
   "source": [
    "<hr>\n",
    "\n",
    "##### Q2\n",
    "\n",
    "How many HR values are zero?"
   ]
  },
  {
   "cell_type": "code",
   "execution_count": null,
   "metadata": {},
   "outputs": [],
   "source": [
    "# Your answer\n",
    "(df_raw.HR == 0).sum()"
   ]
  },
  {
   "cell_type": "code",
   "execution_count": null,
   "metadata": {},
   "outputs": [],
   "source": [
    "sub_ans(team_name,2, 0)"
   ]
  },
  {
   "cell_type": "markdown",
   "metadata": {},
   "source": [
    "<details>\n",
    "\n",
    "<summary>\n",
    "  <div class=\"alert alert-block alert-info\">\n",
    "    Solution: Number of zero HR values\n",
    "  </div>\n",
    "</summary>\n",
    "\n",
    "```python\n",
    "(df_raw.HR == 0).sum()\n",
    "```\n",
    "</details>"
   ]
  },
  {
   "cell_type": "markdown",
   "metadata": {},
   "source": [
    "<hr>\n",
    "\n",
    "##### Q3\n",
    "\n",
    "How many PULSE values are zero?"
   ]
  },
  {
   "cell_type": "code",
   "execution_count": null,
   "metadata": {},
   "outputs": [],
   "source": [
    "# Your answer\n",
    "(df_raw.PULSE == 0).sum()"
   ]
  },
  {
   "cell_type": "code",
   "execution_count": null,
   "metadata": {},
   "outputs": [],
   "source": [
    "sub_ans(team_name,3,365)"
   ]
  },
  {
   "cell_type": "markdown",
   "metadata": {},
   "source": [
    "<details>\n",
    "\n",
    "<summary>\n",
    "  <div class=\"alert alert-block alert-info\">\n",
    "    Solution: Number of zero PULSE values\n",
    "  </div>\n",
    "</summary>\n",
    "\n",
    "```python\n",
    "(df_raw.PULSE == 0).sum()\n",
    "```\n",
    "</details>"
   ]
  },
  {
   "cell_type": "markdown",
   "metadata": {},
   "source": [
    "Why do you think they are different?"
   ]
  },
  {
   "cell_type": "markdown",
   "metadata": {},
   "source": [
    "***"
   ]
  },
  {
   "cell_type": "markdown",
   "metadata": {},
   "source": [
    "### Examine the Data"
   ]
  },
  {
   "cell_type": "markdown",
   "metadata": {},
   "source": [
    "#### Univariate / Multivariate plots and statistics"
   ]
  },
  {
   "cell_type": "markdown",
   "metadata": {},
   "source": [
    "Plot a histogram of the 'PULSE' and 'HR' variables"
   ]
  },
  {
   "cell_type": "code",
   "execution_count": null,
   "metadata": {},
   "outputs": [],
   "source": [
    "df_raw.PULSE.hist(bins=20);"
   ]
  },
  {
   "cell_type": "code",
   "execution_count": null,
   "metadata": {},
   "outputs": [],
   "source": [
    "df_raw.HR.hist(bins=20);"
   ]
  },
  {
   "cell_type": "markdown",
   "metadata": {},
   "source": [
    "Plot a scatter plot of HR vs PULSE"
   ]
  },
  {
   "cell_type": "code",
   "execution_count": null,
   "metadata": {},
   "outputs": [],
   "source": [
    "df_raw.plot.scatter('HR', 'PULSE');"
   ]
  },
  {
   "cell_type": "code",
   "execution_count": null,
   "metadata": {},
   "outputs": [],
   "source": [
    "df_raw.plot.scatter('HR', 'PULSE', marker='.', s=16, alpha=0.2);"
   ]
  },
  {
   "cell_type": "markdown",
   "metadata": {},
   "source": [
    "Why do you think they are not more linearly related?"
   ]
  },
  {
   "cell_type": "markdown",
   "metadata": {},
   "source": [
    "##### Q4\n",
    "\n",
    "Compute the standard correlation coefficient between `HR` and `PULSE` using `pd.corr`.  Round result to 2 decimal digits."
   ]
  },
  {
   "cell_type": "code",
   "execution_count": null,
   "metadata": {},
   "outputs": [],
   "source": [
    "# Your answer\n",
    "df_raw[['HR', 'PULSE']].corr()"
   ]
  },
  {
   "cell_type": "code",
   "execution_count": null,
   "metadata": {},
   "outputs": [],
   "source": [
    "sub_ans(team_name,4, 0.66)"
   ]
  },
  {
   "cell_type": "markdown",
   "metadata": {},
   "source": [
    "<details>\n",
    "\n",
    "<summary>\n",
    "  <div class=\"alert alert-block alert-info\">\n",
    "    Solution: `HR` vs `PULSE` correlation\n",
    "  </div>\n",
    "</summary>\n",
    "\n",
    "```python\n",
    "#\n",
    "# create projection with just columns of intereste\n",
    "#\n",
    "df_raw[['HR', 'PULSE']].corr()\n",
    "```\n",
    "</details>"
   ]
  },
  {
   "cell_type": "markdown",
   "metadata": {},
   "source": [
    "<hr>"
   ]
  },
  {
   "cell_type": "markdown",
   "metadata": {},
   "source": [
    "#### Time-series plot"
   ]
  },
  {
   "cell_type": "markdown",
   "metadata": {},
   "source": [
    "Let's create a function to plot the variables over time (we'll use this multiple times):"
   ]
  },
  {
   "cell_type": "code",
   "execution_count": null,
   "metadata": {},
   "outputs": [],
   "source": [
    "def plot_df(df, mm=None, imm=None):\n",
    "    \"\"\"\n",
    "    Plot numeric physiologic data\n",
    "    \n",
    "    Args:\n",
    "     - df - dataframe with HR, PULSE, RESP, ABP{Sys,Dias,Mean}, and SpO2\n",
    "            columns\n",
    "     - imm - optional min/max of X axis (by index)\n",
    "     - mm  - optionsl min/max of X axis (by time)\n",
    "    \"\"\"\n",
    "    n = 4\n",
    "    # create a figure with 4 subplots\n",
    "    fig, ax = plt.subplots(n, 1)\n",
    "    \n",
    "    # set height to something reasonable\n",
    "    fig.set_figheight(n*2.5)\n",
    "    fig.set_figwidth(12)\n",
    "\n",
    "    # Plot HR/PUlse in first\n",
    "    ax[0].set_ylabel('HR')\n",
    "    ax[0].plot(df.dt, df.HR, label='HR')\n",
    "    ax[0].plot(df.dt, df.PULSE, label='Pulse')\n",
    "    ax[0].legend()\n",
    "\n",
    "    # RESP in second\n",
    "    ax[1].set_ylabel('RESP')\n",
    "    ax[1].plot(df.dt, df.RESP)\n",
    "\n",
    "    # Artieral BP in third\n",
    "    ax[2].set_ylabel('ABP')\n",
    "    ax[2].plot(df.dt, df.ABPSys, label='Sys')\n",
    "    ax[2].plot(df.dt, df.ABPDias, label='Dias')\n",
    "    ax[2].plot(df.dt, df.ABPMean, label='mABP')\n",
    "    ax[2].legend()\n",
    "    \n",
    "    # SpO2 in final\n",
    "    ax[3].set_ylabel('SpO2')\n",
    "    ax[3].plot(df.dt, df.SpO2)\n",
    "\n",
    "    # if user doesn't specify the min/max value for the x-axis,\n",
    "    # find the min/max across all subplots\n",
    "    if imm is not None:\n",
    "        assert mm is None, \"Can't use both mm and imm opts\"\n",
    "        mm = [df.loc[imm[0], 'dt'], df.loc[imm[1], 'dt'] ]\n",
    "    elif mm is None:\n",
    "        mm = ax[0].get_xlim()\n",
    "\n",
    "        for i in range(1, len(ax)):\n",
    "            x0, x1 = ax[i].get_xlim()\n",
    "            if x0 < mm[0]: mm[0] = x0\n",
    "            if x1 > mm[1]: mm[1] = x1\n",
    "            \n",
    "    # sync all subplots\n",
    "    for ent in ax:\n",
    "        ent.set_xlim(*mm)\n",
    "        \n",
    "    # return the fig and ax in case we want to\n",
    "    # embellish them further\n",
    "    return fig, ax\n",
    "        \n",
    "plot_df(df_raw);"
   ]
  },
  {
   "cell_type": "markdown",
   "metadata": {},
   "source": [
    "Does this change your idea why PULSE and HR have different numbers of zero values?"
   ]
  },
  {
   "cell_type": "markdown",
   "metadata": {},
   "source": [
    "***"
   ]
  },
  {
   "cell_type": "markdown",
   "metadata": {},
   "source": [
    "### Brief look at Waveforms"
   ]
  },
  {
   "cell_type": "markdown",
   "metadata": {},
   "source": [
    "Load waveform records"
   ]
  },
  {
   "cell_type": "code",
   "execution_count": null,
   "metadata": {},
   "outputs": [],
   "source": [
    "wave_recs = [wfdb.rdrecord(removesuffix(_, '.hea')) for _ in wave_hdrs]"
   ]
  },
  {
   "cell_type": "markdown",
   "metadata": {},
   "source": [
    "Create dataframe (using `create_df_from_record`)"
   ]
  },
  {
   "cell_type": "code",
   "execution_count": null,
   "metadata": {},
   "outputs": [],
   "source": [
    "wrec = wave_recs[0]\n",
    "df_wave = create_df_from_record(wrec)"
   ]
  },
  {
   "cell_type": "markdown",
   "metadata": {},
   "source": [
    "Examine some rows:"
   ]
  },
  {
   "cell_type": "code",
   "execution_count": null,
   "metadata": {},
   "outputs": [],
   "source": [
    "df_wave.head()"
   ]
  },
  {
   "cell_type": "markdown",
   "metadata": {},
   "source": [
    "Skip ahead to index 10000\n",
    "- first rows are empty (np.nan)\n",
    "- after that are some test patterns"
   ]
  },
  {
   "cell_type": "code",
   "execution_count": null,
   "metadata": {},
   "outputs": [],
   "source": [
    "df_wave[10000:10005]"
   ]
  },
  {
   "cell_type": "markdown",
   "metadata": {},
   "source": [
    "##### Q5\n",
    "\n",
    "How many waveform signals are available?"
   ]
  },
  {
   "cell_type": "code",
   "execution_count": null,
   "metadata": {},
   "outputs": [],
   "source": [
    "# Your answer"
   ]
  },
  {
   "cell_type": "code",
   "execution_count": null,
   "metadata": {},
   "outputs": [],
   "source": [
    "sub_ans(team_name,5,4)"
   ]
  },
  {
   "cell_type": "markdown",
   "metadata": {},
   "source": [
    "<hr>"
   ]
  },
  {
   "cell_type": "markdown",
   "metadata": {},
   "source": [
    "Create a function to plot waveforms alongside some numerics"
   ]
  },
  {
   "cell_type": "code",
   "execution_count": null,
   "metadata": {},
   "outputs": [],
   "source": [
    "def plot_both(dfn, dfw, sigs, mm=None):    \n",
    "    \"\"\"\n",
    "    Plot numeric/waveform physiologic data\n",
    "    \n",
    "    Args:\n",
    "     - df - dataframe with HR, PULSE, RESP, ABP{Sys,Dias,Mean}, and SpO2\n",
    "            columns\n",
    "     - sigs -  list of signal types to plot (choices include abp, ekg, hr)\n",
    "     - mm  - optional min/max of X axis (by time)\n",
    "    \"\"\"\n",
    "    assert mm is not None and len(mm) == 2\n",
    "    \n",
    "    if type(mm[0]) is str: mm[0] = parser.parse(mm[0])\n",
    "    if type(mm[1]) is str: mm[1] = parser.parse(mm[1])\n",
    "    \n",
    "    n = len(sigs)\n",
    "    fig, raw_ax = plt.subplots(n, 1)\n",
    "    if n == 1: raw_ax = [raw_ax]\n",
    "    \n",
    "    # set height to something reasonable\n",
    "    fig.set_figheight(n*2.5)\n",
    "    fig.set_figwidth(12)\n",
    "    \n",
    "    ax = {sig: raw_ax[i] for i, sig in enumerate(sigs)}\n",
    "    #ax = {}\n",
    "    #for i, sig in enumerate(sigs):\n",
    "    #    ax[sig] = raw_ax[i]\n",
    "    \n",
    "    #\n",
    "    # limit plot data to near min/max window\n",
    "    #  - for numeric, extend window by a minute on both side, since\n",
    "    #    data only available every minute\n",
    "    tdfn = dfn[(dfn.dt >= mm[0] - pd.Timedelta(seconds=120)) & \n",
    "               (dfn.dt <= mm[1] + pd.Timedelta(seconds=120))]\n",
    "    tdfw = dfw[(dfw.dt >= mm[0]) & (dfw.dt <= mm[1])]\n",
    "    \n",
    "    if 'abp' in ax:\n",
    "        ax['abp'].set_ylabel('ABP')\n",
    "        ax['abp'].plot(tdfn.dt, tdfn.ABPSys,  drawstyle='steps-post', label='Sys')\n",
    "        ax['abp'].plot(tdfn.dt, tdfn.ABPDias, drawstyle='steps-post', label='Dias')\n",
    "        ax['abp'].plot(tdfn.dt, tdfn.ABPMean, drawstyle='steps-post', label='mABP')\n",
    "\n",
    "        ax['abp'].plot(tdfw.dt, tdfw.ABP, label='ABP', alpha=0.3)\n",
    "\n",
    "        ax['abp'].legend()\n",
    "        \n",
    "    if 'ekg' in ax:\n",
    "        ax['ekg'].set_ylabel('EKG')\n",
    "        ax['ekg'].plot(tdfw.dt, tdfw.II, label='II')\n",
    "        #ax['ekg'].plot(tdfw.dt, tdfw.AVF, label='AVF')\n",
    "\n",
    "        ax['ekg'].legend()\n",
    "\n",
    "    if 'hr' in ax:\n",
    "        ax['hr'].set_ylabel('HR')\n",
    "        ax['hr'].plot(tdfn.dt, tdfn.HR, drawstyle='steps-post', label='HR', )\n",
    "        #ax['hr'].plot(tdfn.dt, tdfn.PULSE, drawstyle='steps-post', label='PULSE')\n",
    "        ax['hr'].legend()\n",
    "\n",
    "    if mm is not None:\n",
    "        for axi in ax.values():\n",
    "            axi.set_xlim(*mm)\n",
    "        \n",
    "    # return the fig and ax in case we want to\n",
    "    # embellish them further\n",
    "    return fig, ax"
   ]
  },
  {
   "cell_type": "markdown",
   "metadata": {},
   "source": [
    "#### Full Minute\n",
    "\n",
    "Blood pressure variation with respiratory pattern.\n",
    "\n",
    "Illustrates the different levels of information available between q1m data and 125 Hz data.\n",
    "\n",
    "Also see that EKG is affected (however this could be related to motion of the sensors relative to the heart and not intrinsic to the cardiac elecrical activity)"
   ]
  },
  {
   "cell_type": "code",
   "execution_count": null,
   "metadata": {},
   "outputs": [],
   "source": [
    "plot_both(df_raw, df_wave, sigs=['ekg', 'abp'],\n",
    "         mm = ['2183-04-28 17:49:00',\n",
    "               '2183-04-28 17:50:00']);"
   ]
  },
  {
   "cell_type": "markdown",
   "metadata": {},
   "source": [
    "#### Zoom out - plot 15 minutes\n",
    "\n",
    "Notice how the numeric values of BP (Sys, Dias, mABP) correspond to the waveform"
   ]
  },
  {
   "cell_type": "code",
   "execution_count": null,
   "metadata": {},
   "outputs": [],
   "source": [
    "plot_both(df_raw, df_wave, sigs=['ekg', 'abp'],\n",
    "         mm = ['2183-04-28 17:49:00',\n",
    "               '2183-04-28 18:04:00']);"
   ]
  },
  {
   "cell_type": "markdown",
   "metadata": {},
   "source": [
    "#### Zoom in - plot 10 seconds\n",
    "\n",
    "Finer view of EKG shows pacing spikes.  This is why heart rate is so constant during first few days.\n",
    "\n",
    "One spike occurred on top of intrinsic atrial contraction, leading to ineffective ventricular contraction.\n",
    "\n",
    "Illustrates challenge with the meaning of \"HR\"."
   ]
  },
  {
   "cell_type": "code",
   "execution_count": null,
   "metadata": {},
   "outputs": [],
   "source": [
    "plot_both(df_raw, df_wave, sigs = ['ekg', 'abp'],\n",
    "         mm = ['2183-04-28 17:49:20',\n",
    "               '2183-04-28 17:49:30']);"
   ]
  },
  {
   "cell_type": "markdown",
   "metadata": {},
   "source": [
    "#### 10 seconds later in record (after pacing stopped)"
   ]
  },
  {
   "cell_type": "code",
   "execution_count": null,
   "metadata": {},
   "outputs": [],
   "source": [
    "plot_both(df_raw, df_wave, sigs=['ekg', 'hr'],\n",
    "         mm = ['2183-04-29 12:01:20',\n",
    "               '2183-04-29 12:01:30']);"
   ]
  },
  {
   "cell_type": "markdown",
   "metadata": {},
   "source": [
    "#### Plot 30 minutes of EKG waveform & HR numerics (after pacing stopped)"
   ]
  },
  {
   "cell_type": "code",
   "execution_count": null,
   "metadata": {
    "tags": []
   },
   "outputs": [],
   "source": [
    "plot_both(df_raw, df_wave, sigs=['ekg', 'hr'],\n",
    "         mm = ['2183-04-29 12:00:00',\n",
    "               '2183-04-29 12:30:00']);"
   ]
  },
  {
   "cell_type": "markdown",
   "metadata": {},
   "source": [
    "### Data Preprocessing -- Outlier Removal"
   ]
  },
  {
   "cell_type": "markdown",
   "metadata": {},
   "source": [
    "Physiologic time series data are typically recorded automatically from the patient, with either minimal or no human review of values.  This has the benefit of reducing *bias* -- the vitals are continuously sampled regardless of the patient's status, in comparison to other measures such nurse documented vitals which may be sampled more/less frequently based on perceived patient acuity, or laboratory values that may only be sampled when there is clinical suspicion of abnormality.\n",
    "\n",
    "This also has the downside that artefacts, such as a disconnected sensor or an external event that impedes the sensor, are left within the record.\n",
    "\n",
    "**Outlier removal** is the process of removing these artifacts.  Typically there are 2-3 components:\n",
    "- removal of physiologically implausible values, e.g. HR of a 1000, a blood pressure where the mean value is higher than the systolic value, etc.\n",
    "- removal of statistically improbable values, e.g. HR's greater than 2-3 standard deviations from the mean, where the mean could be for the study population.\n",
    "  - for a normally distributed variable (is your variable normally distributed?): values greater than 2-3 standard deviations from the mean\n",
    "  - for other distributions, consider quantiles: < 0.5% or > 99.5%\n",
    "- noise filter, such as a median filter\n",
    "\n",
    "However, sometimes physiology of interest is improbable:\n",
    "- During cardiac arrest, HR will be zero (measured from pulse)"
   ]
  },
  {
   "cell_type": "markdown",
   "metadata": {},
   "source": [
    "#### Physiologic Outliers"
   ]
  },
  {
   "cell_type": "markdown",
   "metadata": {},
   "source": [
    "**Exercise:** create a function named `remove_outliers` that:\n",
    "\n",
    "- Takes a dataframe with numeric PTSD (such as `df_raw`)\n",
    "\n",
    "- Applies the following physiologic plausible ranges used by Yoon *et al*:\n",
    "\n",
    "    - HR 10-400 (use for Pulse too)\n",
    "    - RR 1-100\n",
    "    - BP 10-400\n",
    "       - apply to each component: systolic, diastolic, mean\n",
    "       - check that systolic >= mean >= diastolic\n",
    "       - if any component is invalid => assume all invalid\n",
    "    - SpO2 10-100 (*)\n",
    "\n",
    "- Replaces outliers with `np.nan`.\n",
    "\n",
    "- Print the number of HR, Pulse, and RESP values that are invalid."
   ]
  },
  {
   "cell_type": "code",
   "execution_count": null,
   "metadata": {},
   "outputs": [],
   "source": [
    "def remove_outliers(df):\n",
    "    # create masks:\n",
    "    m_invalid_hr    = (df.HR < 10) | (df.HR > 220)\n",
    "    m_invalid_pulse = (df.PULSE < 10) | (df.PULSE > 220)\n",
    "    m_invalid_resp  = (df.RESP  < 1)  | (df.RESP  > 60)\n",
    "    m_invalid_abp   = ((df.ABPSys < 10)  | (df.ABPSys > 250) |\n",
    "                       (df.ABPDias < 10) | (df.ABPDias > 250) |\n",
    "                       (df.ABPMean < 10)  | (df.ABPMean > 250) |\n",
    "                       (df.ABPMean > df.ABPSys) | (df.ABPMean < df.ABPDias))\n",
    "    m_invalid_spo2  = (df.SpO2 < 10) | (df.SpO2 > 100)\n",
    "    \n",
    "\n",
    "    # set outliers to np.nan\n",
    "    df.loc[m_invalid_hr, 'HR'] = np.nan\n",
    "    df.loc[m_invalid_pulse, 'PULSE'] = np.nan\n",
    "\n",
    "    df.loc[m_invalid_resp, 'RESP']   = np.nan\n",
    "\n",
    "    df.loc[m_invalid_abp, 'ABPSys']  = np.nan\n",
    "    df.loc[m_invalid_abp, 'ABPDias'] = np.nan\n",
    "    df.loc[m_invalid_abp, 'ABPMean'] = np.nan\n",
    "\n",
    "    df.loc[m_invalid_spo2, 'SpO2'] = np.nan\n",
    "    \n",
    "    # Print how many values are invalid\n",
    "    print(f'num invalid HR    {np.sum(m_invalid_hr)}')\n",
    "    print(f'num invalid Pulse {np.sum(m_invalid_pulse)}')\n",
    "    print(f'num invalid Resp  {np.sum(m_invalid_resp)}')\n",
    "    print(f'num invalid ABP   {np.sum(m_invalid_abp)}')\n",
    "    print(f'num invalid SpO2  {np.sum(m_invalid_spo2)}')"
   ]
  },
  {
   "cell_type": "markdown",
   "metadata": {},
   "source": [
    "<details>\n",
    "\n",
    "<summary>\n",
    "  <div class=\"alert alert-block alert-info\">\n",
    "    Solution: Outlier removal: physiologically implausible values\n",
    "  </div>\n",
    "</summary>\n",
    "\n",
    "```python\n",
    "def remove_outliers(df):\n",
    "    # create masks:\n",
    "    m_invalid_hr    = (df.HR < 10) | (df.HR > 220)\n",
    "    m_invalid_pulse = (df.PULSE < 10) | (df.PULSE > 220)\n",
    "    m_invalid_resp  = (df.RESP  < 1)  | (df.RESP  > 60)\n",
    "    m_invalid_abp   = ((df.ABPSys < 10)  | (df.ABPSys > 250) |\n",
    "                       (df.ABPDias < 10) | (df.ABPDias > 250) |\n",
    "                       (df.ABPMean < 10)  | (df.ABPMean > 250) |\n",
    "                       (df.ABPMean > df.ABPSys) | (df.ABPMean < df.ABPDias))\n",
    "    m_invalid_spo2  = (df.SpO2 < 10) | (df.SpO2 > 100)\n",
    "    \n",
    "\n",
    "    # set outliers to np.nan\n",
    "    df.loc[m_invalid_hr, 'HR'] = np.nan\n",
    "    df.loc[m_invalid_pulse, 'PULSE'] = np.nan\n",
    "\n",
    "    df.loc[m_invalid_resp, 'RESP']   = np.nan\n",
    "\n",
    "    df.loc[m_invalid_abp, 'ABPSys']  = np.nan\n",
    "    df.loc[m_invalid_abp, 'ABPDias'] = np.nan\n",
    "    df.loc[m_invalid_abp, 'ABPMean'] = np.nan\n",
    "\n",
    "    df.loc[m_invalid_spo2, 'SpO2'] = np.nan\n",
    "    \n",
    "    # Print how many values are invalid\n",
    "    print(f'num invalid HR    {np.sum(m_invalid_hr)}')\n",
    "    print(f'num invalid Pulse {np.sum(m_invalid_pulse)}')\n",
    "    print(f'num invalid Resp  {np.sum(m_invalid_resp)}')\n",
    "    print(f'num invalid ABP   {np.sum(m_invalid_abp)}')\n",
    "    print(f'num invalid SpO2  {np.sum(m_invalid_spo2)}')\n",
    "```\n",
    "</details>"
   ]
  },
  {
   "cell_type": "markdown",
   "metadata": {},
   "source": [
    "Apply the function to our data:\n",
    "\n",
    "(note: we'll make a copy of the dataframe first, so that we can run it multiple times)"
   ]
  },
  {
   "cell_type": "code",
   "execution_count": null,
   "metadata": {},
   "outputs": [],
   "source": [
    "df_clean_1 = df_raw.copy()\n",
    "remove_outliers(df_clean_1)"
   ]
  },
  {
   "cell_type": "markdown",
   "metadata": {},
   "source": [
    "<hr>"
   ]
  },
  {
   "cell_type": "markdown",
   "metadata": {},
   "source": [
    "##### Q6\n",
    "\n",
    "How many ABP values were invalid?"
   ]
  },
  {
   "cell_type": "code",
   "execution_count": null,
   "metadata": {},
   "outputs": [],
   "source": [
    "sub_ans(team_name,6, 384)"
   ]
  },
  {
   "cell_type": "markdown",
   "metadata": {},
   "source": [
    "Plot the cleaned data:"
   ]
  },
  {
   "cell_type": "code",
   "execution_count": null,
   "metadata": {},
   "outputs": [],
   "source": [
    "plot_df(df_clean_1);"
   ]
  },
  {
   "cell_type": "markdown",
   "metadata": {},
   "source": [
    "***"
   ]
  },
  {
   "cell_type": "markdown",
   "metadata": {},
   "source": [
    "#### Statistical Outlier Rejection\n",
    "\n",
    "After implausible/impossible values are removed, it is common to remove statistical outliers\n",
    "- either based on population distribution,\n",
    "- or local distribution for the patient."
   ]
  },
  {
   "cell_type": "markdown",
   "metadata": {},
   "source": [
    "**Exercise:** write a function `remove_outliers_stat` that\n",
    "- takes arguments\n",
    "   - numeric dataframe\n",
    "   - threshold value such that outlier with quantile < threshold or > threshold are removed\n",
    "- computes cutoff values `minv` and `maxv` from threshold using `pd.Series.quantile`\n",
    "  ([docs](https://pandas.pydata.org/docs/reference/api/pandas.Series.quantile.html))\n",
    "- sets values outside cutoffs to `np.nan`\n",
    "- prints the number of outliers removed"
   ]
  },
  {
   "cell_type": "code",
   "execution_count": null,
   "metadata": {},
   "outputs": [],
   "source": [
    "def remove_outliers_stat(df, thresh):\n",
    "    for col in df.columns:\n",
    "        if col == 'dt': continue\n",
    "        ### Solution start\n",
    "        minv, maxv = df[col].quantile([thresh, 1-thresh])\n",
    "        m = (df[col] < minv) | (df[col] > maxv)\n",
    "        df.loc[m, col] = np.nan\n",
    "        print(f' - {col}: {m.sum()} outliers removed')"
   ]
  },
  {
   "cell_type": "markdown",
   "metadata": {},
   "source": [
    "<details>\n",
    "\n",
    "<summary>\n",
    "  <div class=\"alert alert-block alert-info\">\n",
    "    Solution: Outlier removal: statiscially implausible values\n",
    "  </div>\n",
    "</summary>\n",
    "\n",
    "```python\n",
    "def remove_outliers_stat(df, thresh):\n",
    "    for col in df.columns:\n",
    "        if col == 'dt': continue\n",
    "        minv, maxv = df[col].quantile([thresh, 1-thresh])\n",
    "        m = (df[col] < minv) | (df[col] > maxv)\n",
    "        df.loc[m, col] = np.nan\n",
    "        print(f' - {col}: {m.sum()} outliers removed')\n",
    "```\n",
    "</details>"
   ]
  },
  {
   "cell_type": "markdown",
   "metadata": {},
   "source": [
    "Process our data ith thresh = 0.001"
   ]
  },
  {
   "cell_type": "code",
   "execution_count": null,
   "metadata": {},
   "outputs": [],
   "source": [
    "df_clean_2 = df_clean_1.copy()\n",
    "remove_outliers_stat(df_clean_2, 0.001)"
   ]
  },
  {
   "cell_type": "markdown",
   "metadata": {},
   "source": [
    "##### Q7\n",
    "\n",
    "How many ABP statistical outliers were removed (for ABPSys)?"
   ]
  },
  {
   "cell_type": "code",
   "execution_count": null,
   "metadata": {},
   "outputs": [],
   "source": [
    "sub_ans(team_name,7,2)"
   ]
  },
  {
   "cell_type": "markdown",
   "metadata": {},
   "source": [
    "***"
   ]
  },
  {
   "cell_type": "markdown",
   "metadata": {},
   "source": [
    "### Missing Value Imputation\n",
    "\n",
    "Machine learning algorithms typically assume features are available at the time of prediction.  It is necessary to impute missing values, both missing in the original dataset, and missing because of outlier removal.\n",
    "\n",
    "Missing value imputation can range from simple to complex\n",
    "- population mean value imputation\n",
    "- last value carried foward (aka foward fill)\n",
    "- summary of recent values carried forward (eg forward fill local mean)\n",
    "- missingness as a feature (impute + missing flag)\n",
    "- linear regression (be careful to avoid non-causality)\n",
    "- multiple imputation (create set of imputations statistically similar to real values)\n",
    "- fit non-mising data gaussian processes (exploit correlation across variables and time)\n",
    "\n",
    "Resampling and downsampling can affect missing value imputation.\n",
    "- Background\n",
    "  - longer time series can provide more information\n",
    "  - however, more values requires larger models (with more parameters) and larger training sets\n",
    "  - tradeoff: use statistical summaries of time series\n",
    "     - mean, standard deviation, min, max, etc\n",
    "     - break into regions (remote, recent, etc)\n",
    "- Statistical summaries essentially downsample time-series\n",
    "  - Eg Average 60 minutes of q1m HR\n",
    "  - Approach: ignore missing values\n",
    "  - Summaries somewhat resilient to small missingingness"
   ]
  },
  {
   "cell_type": "markdown",
   "metadata": {},
   "source": [
    "Apply Yoon *et al*'s imputation strategy:\n",
    "- impute missing value with moving average of previous 3 values\n",
    "- IF missing data time period < 10 min."
   ]
  },
  {
   "cell_type": "markdown",
   "metadata": {},
   "source": [
    "**Excercise:** use pandas rolling window calculations (`rolling()`) to compute rolling average."
   ]
  },
  {
   "cell_type": "code",
   "execution_count": null,
   "metadata": {},
   "outputs": [],
   "source": [
    "pd.DataFrame.rolling?"
   ]
  },
  {
   "cell_type": "markdown",
   "metadata": {},
   "source": [
    "Start by computing rolling average of synthetic vector of last three samples "
   ]
  },
  {
   "cell_type": "code",
   "execution_count": null,
   "metadata": {},
   "outputs": [],
   "source": [
    "def create_tmp():\n",
    "    tmp = pd.DataFrame(np.zeros(shape=(20,1), dtype=float), columns=['signal'])\n",
    "    tmp.loc[0, 'signal'] = 5\n",
    "    tmp.loc[3:4, 'signal'] = np.nan # Small gap (***) notice that pandas ranges are different than standard python\n",
    "    tmp.loc[6, 'signal'] = 2\n",
    "    tmp.loc[8:17, 'signal'] = np.nan # big gap\n",
    "    return tmp\n",
    "\n",
    "tmp = create_tmp()\n",
    "\n",
    "# (***) Notice that pandas slices are different than standard python"
   ]
  },
  {
   "cell_type": "markdown",
   "metadata": {},
   "source": [
    "Create a `valid` column: 'True' when signal is not missing"
   ]
  },
  {
   "cell_type": "code",
   "execution_count": null,
   "metadata": {},
   "outputs": [],
   "source": [
    "tmp['valid'] = ELLIPSIS(tmp.signal.notnull())"
   ]
  },
  {
   "cell_type": "markdown",
   "metadata": {},
   "source": [
    "<details>\n",
    "\n",
    "<summary>\n",
    "  <div class=\"alert alert-block alert-info\">\n",
    "    Solution: label valid time samples\n",
    "  </div>\n",
    "</summary>\n",
    "\n",
    "```python\n",
    "tmp['valid'] = tmp.signal.notnull()\n",
    "```\n",
    "</details>"
   ]
  },
  {
   "cell_type": "markdown",
   "metadata": {},
   "source": [
    "<hr>"
   ]
  },
  {
   "cell_type": "markdown",
   "metadata": {},
   "source": [
    "##### Q7\n",
    "\n",
    "How many valid values are there?"
   ]
  },
  {
   "cell_type": "code",
   "execution_count": null,
   "metadata": {},
   "outputs": [],
   "source": [
    "# your solution here\n",
    "ELLIPSIS(tmp.valid.sum())"
   ]
  },
  {
   "cell_type": "code",
   "execution_count": null,
   "metadata": {},
   "outputs": [],
   "source": [
    "sub_ans(team_name,7,8)"
   ]
  },
  {
   "cell_type": "markdown",
   "metadata": {},
   "source": [
    "<hr>"
   ]
  },
  {
   "cell_type": "markdown",
   "metadata": {},
   "source": [
    "Compute rolling average of last three minutes (*) (window size = 3):\n",
    "\n",
    "(*) computing average of previous 3 non-missing values is a little harder\n",
    "\n",
    "Hint, look at `pd.Series.rolling`"
   ]
  },
  {
   "cell_type": "code",
   "execution_count": null,
   "metadata": {},
   "outputs": [],
   "source": [
    "tmp['avg3']  = ELLIPSIS(tmp.signal.rolling(3).mean())"
   ]
  },
  {
   "cell_type": "markdown",
   "metadata": {},
   "source": [
    "<details>\n",
    "\n",
    "<summary>\n",
    "  <div class=\"alert alert-block alert-info\">\n",
    "    Solution: rolling average of 3 previous values\n",
    "  </div>\n",
    "</summary>\n",
    "\n",
    "```python\n",
    "tmp['avg3']  = tmp.signal.rolling(3).mean()\n",
    "```\n",
    "</details>"
   ]
  },
  {
   "cell_type": "markdown",
   "metadata": {},
   "source": [
    "Fill forward with `fillna()`"
   ]
  },
  {
   "cell_type": "code",
   "execution_count": null,
   "metadata": {},
   "outputs": [],
   "source": [
    "tmp['avg3_ffill'] = ELLIPSIS(tmp.avg3.fillna(method='ffill'))"
   ]
  },
  {
   "cell_type": "markdown",
   "metadata": {},
   "source": [
    "<details>\n",
    "\n",
    "<summary>\n",
    "  <div class=\"alert alert-block alert-info\">\n",
    "    Solution: Forward fill\n",
    "  </div>\n",
    "</summary>\n",
    "\n",
    "```python\n",
    "tmp['avg3_ffill'] = tmp.avg3.fillna(method='ffill')\n",
    "```\n",
    "</details>"
   ]
  },
  {
   "cell_type": "markdown",
   "metadata": {},
   "source": [
    "- Label start/stop of missing values runs with `run_ss`\n",
    "  <br>(hint look at pandas [shift](https://pandas.pydata.org/docs/reference/api/pandas.Series.shift.html) )\n",
    "- cumsum start/stop to label `group`s (noting that groups will alternate between valid and invalid)\n",
    "  <br>(hint look at pandas [cumsum](https://pandas.pydata.org/docs/reference/api/pandas.Series.cumsum.html) )"
   ]
  },
  {
   "cell_type": "code",
   "execution_count": null,
   "metadata": {},
   "outputs": [],
   "source": [
    "tmp['run_ss'] = ELLIPSIS(tmp.valid != tmp.valid.shift())\n",
    "tmp['group']  = ELLIPSIS(tmp.run_ss.cumsum())"
   ]
  },
  {
   "cell_type": "markdown",
   "metadata": {},
   "source": [
    "<details>\n",
    "\n",
    "<summary>\n",
    "  <div class=\"alert alert-block alert-info\">\n",
    "    Solution: label satart stop, define groups\n",
    "  </div>\n",
    "</summary>\n",
    "\n",
    "```python\n",
    "tmp['run_ss'] = tmp.valid != tmp.valid.shift()\n",
    "tmp['group']  = tmp.run_ss.cumsum()\n",
    "```\n",
    "</details>"
   ]
  },
  {
   "cell_type": "markdown",
   "metadata": {},
   "source": [
    "Examine intermediate result"
   ]
  },
  {
   "cell_type": "code",
   "execution_count": null,
   "metadata": {},
   "outputs": [],
   "source": [
    "tmp.transpose()"
   ]
  },
  {
   "cell_type": "markdown",
   "metadata": {},
   "source": [
    "Count the size of each group, set mask_10 if group_size less than 10.\n",
    "\n",
    "Hints:\n",
    "- consider [groupyby](https://pandas.pydata.org/docs/reference/api/pandas.Series.groupby.html) on group to get size\n",
    "- then [map](https://pandas.pydata.org/docs/reference/api/pandas.Series.map.html) group to group size"
   ]
  },
  {
   "cell_type": "code",
   "execution_count": null,
   "metadata": {},
   "outputs": [],
   "source": [
    "# solution here\n",
    "tmp['group_size'] = ELLIPSIS(tmp.group.map(tmp.valid.groupby(tmp.group).count()))\n",
    "tmp['mask_10']    = ELLIPSIS(tmp.group_size < 10)"
   ]
  },
  {
   "cell_type": "markdown",
   "metadata": {},
   "source": [
    "<details>\n",
    "\n",
    "<summary>\n",
    "  <div class=\"alert alert-block alert-info\">\n",
    "    Solution: group size\n",
    "  </div>\n",
    "</summary>\n",
    "\n",
    "```python\n",
    "tmp['group_size'] = tmp.group.map(tmp.valid.groupby(tmp.group).count())\n",
    "tmp['mask_10']    = tmp.group_size < 10\n",
    "```\n",
    "</details>"
   ]
  },
  {
   "cell_type": "markdown",
   "metadata": {},
   "source": [
    "<hr>"
   ]
  },
  {
   "cell_type": "markdown",
   "metadata": {},
   "source": [
    "##### Q8\n",
    "\n",
    "What is the largest group size?"
   ]
  },
  {
   "cell_type": "code",
   "execution_count": null,
   "metadata": {},
   "outputs": [],
   "source": [
    "# solution here\n",
    "ELLIPSIS(tmp.group_size.max())"
   ]
  },
  {
   "cell_type": "code",
   "execution_count": null,
   "metadata": {},
   "outputs": [],
   "source": [
    "sub_ans(team_name, 8, 10)"
   ]
  },
  {
   "cell_type": "markdown",
   "metadata": {},
   "source": [
    "<hr>"
   ]
  },
  {
   "cell_type": "code",
   "execution_count": null,
   "metadata": {},
   "outputs": [],
   "source": [
    "#\n",
    "# What is `tmp.group.map(tmp.valid.groupby(tmp.group).count())` ?\n",
    "#\n",
    "# Break it down:\n",
    "# OUTER: tmp.group.map(INNER)\n",
    "# INNER: [tmp.valid].groupby([tmp.group]).count()\n",
    "#        [series]   .groupby([series])   .count()\n",
    "#   => Series.Groupby\n",
    "#\n",
    "#   First series (tmp.valid) is grouped by second series (tmp.group) and count function\n",
    "#   is applied.\n",
    "#\n",
    "#   Here this returns a series where index = group and value equals group size.\n",
    "#   (note we could pick any column for tmp.valid ... count() only cares about size).\n",
    "#\n",
    "# OUTER: tmp.group.map(INNER)\n",
    "#   Transform group into group size."
   ]
  },
  {
   "cell_type": "markdown",
   "metadata": {},
   "source": [
    "#### Aside: Alternate formulations"
   ]
  },
  {
   "cell_type": "code",
   "execution_count": null,
   "metadata": {},
   "outputs": [],
   "source": [
    "# Alternate #1: use SeriesGroupby.transform with lambda\n",
    "#\n",
    "#   tmp['group_size'] = tmp.groupby('group')['run_ss'].transform(lambda _: _.shape[0]) \n",
    "#\n",
    "# (*) SeriesGroupby.transform returns a series with the same indices.\n",
    "#   - The function must either return a series of the same shape, or\n",
    "#     a value that can broadcast to the group.\n",
    "#   - We take the shape of `run_ss`, but any column would work.\n",
    "#"
   ]
  },
  {
   "cell_type": "code",
   "execution_count": null,
   "metadata": {},
   "outputs": [],
   "source": [
    "# Alternate #2: use DataFrameGroupby.transfrom with count\n",
    "#\n",
    "#   tmp['group_size'] =  tmp.groupby('group')['run_ss'].transform('count')\n",
    "#"
   ]
  },
  {
   "cell_type": "markdown",
   "metadata": {},
   "source": [
    "Which is faster? ... Benchmark it!"
   ]
  },
  {
   "cell_type": "code",
   "execution_count": null,
   "metadata": {},
   "outputs": [],
   "source": [
    "#\n",
    "# Setup: create a long signal\n",
    "#tmp_signal = []\n",
    "#for r in num_recs:\n",
    "#    tmp_signal.extend\n",
    "\n",
    "tmp1 = pd.DataFrame({'signal': np.concatenate([_.p_signal[:, 0] for _ in num_recs], axis=0)})\n",
    "print(f'tmp1 shape: {tmp1.shape}')\n",
    "tmp1['valid'] = tmp1.signal.notnull()\n",
    "tmp1['run_ss'] = tmp1.valid != tmp1.valid.shift()\n",
    "tmp1['group']  = tmp1.run_ss.cumsum()\n",
    "tmp1['group_size'] = 0"
   ]
  },
  {
   "cell_type": "markdown",
   "metadata": {},
   "source": [
    "Our code:"
   ]
  },
  {
   "cell_type": "code",
   "execution_count": null,
   "metadata": {},
   "outputs": [],
   "source": [
    "%%timeit\n",
    "tmp1['group_size'] = tmp1.group.map(tmp1.valid.groupby(tmp1.group).count())"
   ]
  },
  {
   "cell_type": "markdown",
   "metadata": {},
   "source": [
    "Alternate #1"
   ]
  },
  {
   "cell_type": "code",
   "execution_count": null,
   "metadata": {},
   "outputs": [],
   "source": [
    "%%timeit\n",
    "tmp1['group_size'] = tmp1.groupby('group')['run_ss'].transform(lambda _: _.shape[0])"
   ]
  },
  {
   "cell_type": "markdown",
   "metadata": {},
   "source": [
    "Alternate #2"
   ]
  },
  {
   "cell_type": "code",
   "execution_count": null,
   "metadata": {},
   "outputs": [],
   "source": [
    "%%timeit\n",
    "tmp1['group_size'] = tmp1.groupby('group')['run_ss'].transform('count')"
   ]
  },
  {
   "cell_type": "markdown",
   "metadata": {},
   "source": [
    "A snazzy way to benchmark the `perfplot` package"
   ]
  },
  {
   "cell_type": "code",
   "execution_count": null,
   "metadata": {
    "tags": []
   },
   "outputs": [],
   "source": [
    "if 0:\n",
    "    import perfplot\n",
    "    np.random.seed(0)\n",
    "    df_ = pd.DataFrame(np.random.randn(5, 1000))\n",
    "\n",
    "    perfplot.show(\n",
    "        setup=lambda n: pd.concat([tmp1] * n, ignore_index=True),\n",
    "        kernels=[\n",
    "            lambda df:  df.group.map(df.valid.groupby(df.group).count()),\n",
    "            lambda df:  df.groupby('group')['run_ss'].transform(lambda _: _.shape[0]),\n",
    "            lambda df:  df.groupby('group')['run_ss'].transform('count')\n",
    "        ],\n",
    "        labels=['map(group)', 'groupby-lambda', 'groupby-count'],\n",
    "        n_range=[2**k for k in range(0, 10)],\n",
    "        xlabel='N (* len(df))',\n",
    "        logx=True,\n",
    "        logy=True)\n",
    "    plt.style.use('default')"
   ]
  },
  {
   "cell_type": "markdown",
   "metadata": {},
   "source": [
    "#### Back to Imputation"
   ]
  },
  {
   "cell_type": "markdown",
   "metadata": {},
   "source": [
    "Create a mask that is true when a value is missing (~valid) and can be imputed (group_size < 10)"
   ]
  },
  {
   "cell_type": "code",
   "execution_count": null,
   "metadata": {},
   "outputs": [],
   "source": [
    "tmp['mask_impute'] =  ELLIPSIS(~tmp.valid & (tmp.group_size < 10))"
   ]
  },
  {
   "cell_type": "markdown",
   "metadata": {},
   "source": [
    "<details>\n",
    "\n",
    "<summary>\n",
    "  <div class=\"alert alert-block alert-info\">\n",
    "    Solution: determine mask_impute\n",
    "  </div>\n",
    "</summary>\n",
    "\n",
    "```python\n",
    "tmp['mask_impute'] = ~tmp.valid & (tmp.group_size < 10)\n",
    "```\n",
    "</details>"
   ]
  },
  {
   "cell_type": "markdown",
   "metadata": {},
   "source": [
    "<hr>"
   ]
  },
  {
   "cell_type": "markdown",
   "metadata": {},
   "source": [
    "##### Q9\n",
    "\n",
    "How many values are imputed"
   ]
  },
  {
   "cell_type": "code",
   "execution_count": null,
   "metadata": {},
   "outputs": [],
   "source": [
    "# Your code here\n",
    "ELLIPSIS(tmp.mask_impute.sum())"
   ]
  },
  {
   "cell_type": "code",
   "execution_count": null,
   "metadata": {},
   "outputs": [],
   "source": [
    "sub_ans(team_name, 9, 2)"
   ]
  },
  {
   "cell_type": "markdown",
   "metadata": {},
   "source": [
    "<hr>"
   ]
  },
  {
   "cell_type": "markdown",
   "metadata": {},
   "source": [
    "Set `new_signal` to imputed value when `mask_impute` True:"
   ]
  },
  {
   "cell_type": "code",
   "execution_count": null,
   "metadata": {},
   "outputs": [],
   "source": [
    "tmp['new_signal'] = tmp.signal\n",
    "tmp.loc[tmp.mask_impute, 'new_signal'] = tmp.loc[tmp.mask_impute, 'avg3_ffill']"
   ]
  },
  {
   "cell_type": "markdown",
   "metadata": {},
   "source": [
    "<details>\n",
    "\n",
    "<summary>\n",
    "  <div class=\"alert alert-block alert-info\">\n",
    "    Solution: apply imputation to create new_signal\n",
    "  </div>\n",
    "</summary>\n",
    "\n",
    "```python\n",
    "tmp['new_signal'] = tmp.signal\n",
    "tmp.loc[tmp.mask_impute, 'new_signal'] = tmp.loc[tmp.mask_impute, 'avg3_ffill']\n",
    "```\n",
    "</details>"
   ]
  },
  {
   "cell_type": "markdown",
   "metadata": {},
   "source": [
    "Have a look everything:"
   ]
  },
  {
   "cell_type": "code",
   "execution_count": null,
   "metadata": {},
   "outputs": [],
   "source": [
    "tmp.transpose()"
   ]
  },
  {
   "cell_type": "markdown",
   "metadata": {},
   "source": [
    "Finally, create a function `impute` that does all this to impute a column in-place.\n",
    "\n",
    "We will call this for each columna from `impute_all` function (given).\n",
    "\n",
    "(Hint: use pandas series as variables to avoid putting temporary values into the main dataframe)"
   ]
  },
  {
   "cell_type": "code",
   "execution_count": null,
   "metadata": {},
   "outputs": [],
   "source": [
    "def impute(signal):\n",
    "    \"\"\"\n",
    "    Args:\n",
    "     - signal -- series to perform imputation on\n",
    "    \"\"\"\n",
    "    valid        = signal.notnull()\n",
    "    avg3         = signal.rolling(3).mean()\n",
    "    avg3_ffill   = avg3.fillna(method='ffill')\n",
    "    run_ss       = valid != valid.shift()\n",
    "    group        = run_ss.cumsum()\n",
    "    group_size   = group.map(valid.groupby(group).count())\n",
    "    m_impute     = ~valid & (group_size < 10)\n",
    "    \n",
    "    result = np.where(m_impute, avg3_ffill, signal)\n",
    "    print(f'impute {m_impute.sum()}')\n",
    "    return result\n",
    "\n",
    "def impute_all(df):\n",
    "    for var in df.columns:\n",
    "        if var == 'dt': continue\n",
    "        print(f'{var}: ', end='')\n",
    "        df[var] = impute(df[var])"
   ]
  },
  {
   "cell_type": "markdown",
   "metadata": {},
   "source": [
    "<details>\n",
    "\n",
    "<summary>\n",
    "  <div class=\"alert alert-block alert-info\">\n",
    "    Solution: impute function\n",
    "  </div>\n",
    "</summary>\n",
    "\n",
    "```python\n",
    "def impute(signal):\n",
    "    \"\"\"\n",
    "    Args:\n",
    "     - signal -- series to perform imputation on\n",
    "    \"\"\"\n",
    "    valid        = signal.notnull()\n",
    "    avg3         = signal.rolling(3).mean()\n",
    "    avg3_ffill   = avg3.fillna(method='ffill')\n",
    "    run_ss       = valid != valid.shift()\n",
    "    group        = run_ss.cumsum()\n",
    "    group_size   = group.map(valid.groupby(group).count())\n",
    "    m_impute     = ~valid & (group_size < 10)\n",
    "    signal[m_impute] = avg3_ffill[m_impute]\n",
    "    print(f'impute {m_impute.sum()}')\n",
    "```\n",
    "</details>"
   ]
  },
  {
   "cell_type": "markdown",
   "metadata": {},
   "source": [
    "Check `impute` on a fresh temp dataframe:"
   ]
  },
  {
   "cell_type": "code",
   "execution_count": null,
   "metadata": {},
   "outputs": [],
   "source": [
    "tmp = create_tmp()\n",
    "tmp['imputed'] = impute(tmp['signal'])\n",
    "tmp.transpose()"
   ]
  },
  {
   "cell_type": "markdown",
   "metadata": {},
   "source": [
    "Use `impute_all` on our signals:"
   ]
  },
  {
   "cell_type": "code",
   "execution_count": null,
   "metadata": {},
   "outputs": [],
   "source": [
    "df_impute = df_clean_2.copy()\n",
    "impute_all(df_impute)"
   ]
  },
  {
   "cell_type": "markdown",
   "metadata": {},
   "source": [
    "<hr>"
   ]
  },
  {
   "cell_type": "markdown",
   "metadata": {},
   "source": [
    "##### Q10\n",
    "\n",
    "How many ABPSys values were imputed?"
   ]
  },
  {
   "cell_type": "code",
   "execution_count": null,
   "metadata": {},
   "outputs": [],
   "source": [
    "sub_ans(team_name,10,24)"
   ]
  },
  {
   "cell_type": "markdown",
   "metadata": {},
   "source": [
    "<hr>"
   ]
  },
  {
   "cell_type": "markdown",
   "metadata": {},
   "source": [
    "### Identify Hypotension Events"
   ]
  },
  {
   "cell_type": "markdown",
   "metadata": {},
   "source": [
    "To perform supervised learning, we need to label the outcome for training.\n",
    "\n",
    "We'll use Yoon *et al*'s Hypotension (HoTN) definition:\n",
    " - SBP<90 and MAP<60 for >=5 min in 10 min interval\n",
    " - combine events within 2 minutes (*1)\n",
    "\n",
    "Target labels\n",
    " - assign positive label in 15 minutes prior to event (*2)\n",
    "\n",
    "Ambiguity:\n",
    " - (*1) does interval end at 10 minutes, or when BP normalizes?\n",
    " - (*2) this effetively merges HoTN events within 15 minutes"
   ]
  },
  {
   "cell_type": "markdown",
   "metadata": {},
   "source": [
    "Exercise: create a function to label hypotension.\n",
    "\n",
    "Strategy\n",
    "- identify individual minutes of hypotension\n",
    "- rolling sum over last 10"
   ]
  },
  {
   "cell_type": "code",
   "execution_count": null,
   "metadata": {},
   "outputs": [],
   "source": [
    "def label_hotn(df):\n",
    "    # identify individual minutes of hypotension:\n",
    "    hotn = ... # your code here\n",
    "    \n",
    "    # compute a rolling sum over 10 minutes:\n",
    "    hotn_sum = hotn.rolling(10).sum()\n",
    "    \n",
    "    # Shift left by 9 to \"left\" align the window:\n",
    "    hotn_sum_left = hotn_sum.shift(-9)\n",
    "    \n",
    "    # label onset of hypotension:\n",
    "    onset = pd.Series(np.where(hotn & (hotn_sum_left >= 5), 1, 0))\n",
    "    \n",
    "    # Find if this is a new onset (no prior onset in 15 minutes)\n",
    "    last_onset = pd.Series(np.where(onset, df.index, np.nan))\n",
    "    new_onset = (onset &\n",
    "                 (((df.index - last_onset.shift(1)) > 15) |\n",
    "                  last_onset.shift(1).isnull() )).astype(int)\n",
    "    \n",
    "    # Label hypotension training target for machine learning\n",
    "    #  - 15 minutes upto (and including) onset\n",
    "    hotn_target = new_onset.rolling(15).max().shift(-15)\n",
    "    \n",
    "    # save for plotting:\n",
    "    df['hotn']        = hotn\n",
    "    df['onset']       = onset\n",
    "    df['new_onset']   = new_onset\n",
    "    df['hotn_target'] = hotn_target"
   ]
  },
  {
   "cell_type": "markdown",
   "metadata": {},
   "source": [
    "Apply to our data"
   ]
  },
  {
   "cell_type": "code",
   "execution_count": null,
   "metadata": {},
   "outputs": [],
   "source": [
    "df_hotn = df_impute.copy()\n",
    "label_hotn(df_hotn)"
   ]
  },
  {
   "cell_type": "code",
   "execution_count": null,
   "metadata": {},
   "outputs": [],
   "source": [
    "df_hotn['last_hotn'] = np.nan\n",
    "df_hotn['last_hotn'] = np.where(df_hotn['onset'], df_hotn.index, np.nan)\n",
    "df_hotn['last_hotn'] = df_hotn['last_hotn'].fillna(method='ffill')\n",
    "df_hotn['new_onset'] = (df_hotn['onset'] & (\n",
    "    ((df_hotn.index - df_hotn.last_hotn.shift(1)) > 15) | df_hotn.last_hotn.shift(1).isnull()) ).astype(int)"
   ]
  },
  {
   "cell_type": "markdown",
   "metadata": {},
   "source": [
    "<hr>"
   ]
  },
  {
   "cell_type": "markdown",
   "metadata": {},
   "source": [
    "##### Q11\n",
    "\n",
    "How many hypotension targets are there?"
   ]
  },
  {
   "cell_type": "code",
   "execution_count": null,
   "metadata": {},
   "outputs": [],
   "source": [
    "# Your code here"
   ]
  },
  {
   "cell_type": "code",
   "execution_count": null,
   "metadata": {},
   "outputs": [],
   "source": [
    "sub_ans(team_name,11, )"
   ]
  },
  {
   "cell_type": "markdown",
   "metadata": {},
   "source": [
    "<hr>"
   ]
  },
  {
   "cell_type": "markdown",
   "metadata": {},
   "source": [
    "Plot our data, add overlay for \n",
    "- hypotension minutes (orange)\n",
    "- hypotension onset (red)\n",
    "- hypotension targets for training (blue)\n",
    "\n",
    "(we'll use the mm option to \"zoom\" in on the interesting portion)"
   ]
  },
  {
   "cell_type": "code",
   "execution_count": null,
   "metadata": {},
   "outputs": [],
   "source": [
    "def plot_hotn(df, mm=None, imm=None):\n",
    "    fig, ax = plot_df(df, mm=mm, imm=imm)\n",
    "\n",
    "    for i in df_hotn.query('hotn_target == 1').index:\n",
    "        ax[2].axvline(df.dt[df.index[i]], alpha=0.2, ymin = 0.6, ymax = 0.9, color='blue')\n",
    "        \n",
    "    onsets = df.query('onset == 1').dt\n",
    "    ax[2].scatter(onsets, [50] * len(onsets), marker='x', color='red')\n",
    "    \n",
    "    new_onsets = df.query('new_onset == 1').dt\n",
    "    ax[2].scatter(new_onsets, [60] * len(new_onsets), marker='^', color='red')\n",
    "\n",
    "    for i in df.query('hotn == 1').dt:\n",
    "        ax[2].axvline(i, alpha=0.4, color='orange', ymin=0.1, ymax=0.4)\n",
    "        \n",
    "plot_hotn(df_hotn, imm=[80,200])"
   ]
  },
  {
   "cell_type": "markdown",
   "metadata": {},
   "source": [
    "#### Aside: Defining when an event starts"
   ]
  },
  {
   "cell_type": "markdown",
   "metadata": {},
   "source": [
    "What if we used `onset` instead of `new_onset`"
   ]
  },
  {
   "attachments": {
    "5633f1da-1260-4b72-88f1-d44b9d9e0ca9.png": {
     "image/png": "[encoded data removed]"
    }
   },
   "cell_type": "markdown",
   "metadata": {},
   "source": [
    "Using `new_onset`:\n",
    "![image.png](attachment:5633f1da-1260-4b72-88f1-d44b9d9e0ca9.png)"
   ]
  },
  {
   "attachments": {
    "54411a8f-1715-43a2-9706-df2adcf7f9a4.png": {
     "image/png": "[encoded data removed]"
    }
   },
   "cell_type": "markdown",
   "metadata": {},
   "source": [
    "Using `onset`:\n",
    "![image.png](attachment:54411a8f-1715-43a2-9706-df2adcf7f9a4.png)\n",
    "\n",
    "Minutes 177 and 178 are labeled as occuring prior to a HoTN event.\n",
    "\n",
    "But, they also occur within 15 minutes of a prior event."
   ]
  },
  {
   "attachments": {
    "f642d12b-09b8-4e1f-8dca-31ba194a8ce2.png": {
     "image/png": "[encoded data removed]"
    }
   },
   "cell_type": "markdown",
   "metadata": {},
   "source": [
    "If we think about the patient state:\n",
    "![image.png](attachment:f642d12b-09b8-4e1f-8dca-31ba194a8ce2.png)\n",
    "\n",
    "We're trying to detect patients in the transition state between normal physiology and hypotension physiology.\n",
    "\n",
    "Including minutes of hypotensive state (minutes 177 and 178) along with minutes of transition state (162-176) *may* blur the signal present that is unique to the training state, *potentially* impairing the performance of models trained."
   ]
  },
  {
   "cell_type": "markdown",
   "metadata": {},
   "source": [
    "### Features\n",
    "\n",
    "Now that outcome is defined, start building predictive features.\n",
    "\n",
    "Features can categorized in different ways\n",
    "- fixed vs dynamic\n",
    "- categorical vs ordinal vs continuous\n",
    "- regularly vs irregularly sampled\n",
    "- ...\n",
    "\n",
    "My worldview\n",
    "- **outcome** is a function of **state**\n",
    "- ***state** is the link between past and future* (Boyd, Linear Dynamic Systems)\n",
    "   - state is a sufficient statistic (summary) of past events\n",
    "   - state (+ actions) completely determines future (eg outcome)\n",
    "- perfect representations of state and transition function are impossible\n",
    "\n",
    "=> probability of outcome is a function of *estimated state* + error\n",
    "\n",
    "Choose features to help estimate state."
   ]
  },
  {
   "cell_type": "markdown",
   "metadata": {},
   "source": [
    "Back to Yoon et al 2020.\n",
    "\n",
    "Features\n",
    "- stats: mean, median, variance, quartiles, min, max\n",
    "- DFT - discrete fourier transform\n",
    "- EMA - exponential moving average\n",
    "\n",
    "Windows:\n",
    "- 5, 10, 30, 60 minutes\n",
    "- rolling every minute"
   ]
  },
  {
   "cell_type": "markdown",
   "metadata": {},
   "source": [
    "***"
   ]
  },
  {
   "cell_type": "markdown",
   "metadata": {},
   "source": [
    "**Exercise:** Define a function to compute windowed statistics\n",
    "\n",
    "Arguments:\n",
    "- dataframe (df)\n",
    "- window size (win)\n",
    "- list of statistics (f)\n",
    "\n",
    "Processing:\n",
    "- use rolling(win).agg(f)\n",
    "- mess with column names\n",
    "\n",
    "Returns:\n",
    "- new dataframe with features"
   ]
  },
  {
   "cell_type": "code",
   "execution_count": null,
   "metadata": {},
   "outputs": [],
   "source": [
    "def compute_stat_features(df_raw, win, f = None):\n",
    "    if f is None:\n",
    "        f = ['var', 'mean', 'median', 'min', 'max']\n",
    "    \n",
    "    t = df_raw.rolling(win).agg(f)\n",
    "    \n",
    "    # rename columns to {VITAL}_{STAT}_{WIN}\n",
    "    fmt_str = '{0[0]}_{0[1]}_' + str(win)\n",
    "    t.columns = t.columns.map(fmt_str.format)\n",
    "    \n",
    "    return t"
   ]
  },
  {
   "cell_type": "markdown",
   "metadata": {},
   "source": [
    "Test on dataframe with window=60"
   ]
  },
  {
   "cell_type": "code",
   "execution_count": null,
   "metadata": {},
   "outputs": [],
   "source": [
    "df_temp = df_hotn.copy()\n",
    "df_temp_feature = compute_stat_features(df_temp, 60)"
   ]
  },
  {
   "cell_type": "markdown",
   "metadata": {},
   "source": [
    "<hr>"
   ]
  },
  {
   "cell_type": "markdown",
   "metadata": {},
   "source": [
    "##### Q12\n",
    "\n",
    "What is the maximum value of `ABPSys_min_60`"
   ]
  },
  {
   "cell_type": "code",
   "execution_count": null,
   "metadata": {},
   "outputs": [],
   "source": [
    "# your code here\n",
    "...."
   ]
  },
  {
   "cell_type": "code",
   "execution_count": null,
   "metadata": {},
   "outputs": [],
   "source": [
    "sub_ans(team_name,12,)"
   ]
  },
  {
   "cell_type": "markdown",
   "metadata": {},
   "source": [
    "<hr>"
   ]
  },
  {
   "cell_type": "markdown",
   "metadata": {},
   "source": [
    "Plot signal + min/max/mean"
   ]
  },
  {
   "cell_type": "code",
   "execution_count": null,
   "metadata": {},
   "outputs": [],
   "source": [
    "(pd.concat([df_temp, df_temp_feature, pd.DataFrame(np.arange(len(df_temp)), columns=['t'])], axis=1)\n",
    "   .plot(x='t', y=['ABPSys', 'ABPSys_min_60', 'ABPSys_max_60', 'ABPSys_mean_60'],\n",
    "         figsize=(12,6)))"
   ]
  },
  {
   "cell_type": "markdown",
   "metadata": {},
   "source": [
    "Define a similar function for exponentially weighted moving window:\n",
    "(see pandas.ewm(), similar to pandas.rolling())"
   ]
  },
  {
   "cell_type": "code",
   "execution_count": null,
   "metadata": {},
   "outputs": [],
   "source": [
    "def compute_ewm_features(df_raw, span, f = None):\n",
    "    if f is None:\n",
    "        f = ['mean']\n",
    "    t = df_raw.ewm(span=span).agg(f)\n",
    "    fmt_str = '{0[0]}_{0[1]}_' + str(span)\n",
    "    t.columns = t.columns.map(fmt_str.format)\n",
    "    t.columns = t.columns.map(lambda _: _.replace('_mean_', '_ewma_'))\n",
    "    \n",
    "    return t"
   ]
  },
  {
   "cell_type": "markdown",
   "metadata": {},
   "source": [
    "Finally a function for DFT"
   ]
  },
  {
   "cell_type": "code",
   "execution_count": null,
   "metadata": {},
   "outputs": [],
   "source": [
    "# Motivated https://stackoverflow.com/questions/46037217/apply-rolling-window-and-return-stacked-feature-vectors-as-dataframe\n",
    "#\n",
    "def rolling_windows(a, window):    \n",
    "    if window > a.shape[0]:\n",
    "        raise ValueError('Specified `window` length of {0} exceeds length of'\n",
    "                         ' `a`, {1}.'.format(window, a.shape[0])) \n",
    "    if isinstance(a, (pd.Series, pd.DataFrame)):\n",
    "        a = a.values\n",
    "    if a.ndim == 1:\n",
    "        a = a.reshape(-1, 1)\n",
    "    shape = (a.shape[0] - window + 1, window) + a.shape[1:]\n",
    "    strides = (a.strides[0],) + a.strides\n",
    "    windows = np.squeeze(np.lib.stride_tricks.as_strided(a, shape=shape, \n",
    "                                                         strides=strides))\n",
    "    # In cases where window == len(a), we actually want to \"unsqueeze\" to 2d.\n",
    "    #     I.e., we still want a \"windowed\" structure with 1 window.\n",
    "    if windows.ndim == 1:\n",
    "        windows = np.atleast_2d(windows)\n",
    "    return windows\n",
    "\n",
    "def my_fft(s):\n",
    "    return np.abs(np.fft.fft(s))[:int(len(s)/2)]\n",
    "\n",
    "def compute_fft_features(df, win, cols):\n",
    "    res = None\n",
    "    ncoef = int(win/2)\n",
    "    for col in cols:\n",
    "        arr = np.apply_along_axis(my_fft, 1, rolling_windows(df[col], window=win))\n",
    "        dft = pd.DataFrame(arr, index=df.index[win-1:])\n",
    "        dft.columns = [f'{col}_dft_{_}' for _ in range(ncoef)]\n",
    "            \n",
    "        if res is None:\n",
    "            res = dft\n",
    "        else:\n",
    "            res = pd.concat([res, dft], axis=1)\n",
    "    return res"
   ]
  },
  {
   "cell_type": "markdown",
   "metadata": {},
   "source": [
    "Now create all the features"
   ]
  },
  {
   "cell_type": "code",
   "execution_count": null,
   "metadata": {},
   "outputs": [],
   "source": [
    "vars = ['HR', 'PULSE', 'RESP', 'ABPSys', 'ABPDias', 'ABPMean', 'SpO2']"
   ]
  },
  {
   "cell_type": "code",
   "execution_count": null,
   "metadata": {},
   "outputs": [],
   "source": [
    "df_src = df_hotn[vars].copy()\n",
    "df_f   = df_src.copy()"
   ]
  },
  {
   "cell_type": "code",
   "execution_count": null,
   "metadata": {},
   "outputs": [],
   "source": [
    "#\n",
    "# Skip for now:\n",
    "#\n",
    "if 0:\n",
    "    df_f = pd.concat([df_f, compute_fft_features(df_src,   5, vars)], axis=1)\n",
    "    df_f = pd.concat([df_f, compute_fft_features(df_src,  10, vars)], axis=1)\n",
    "    df_f = pd.concat([df_f, compute_fft_features(df_src,  30, vars)], axis=1)\n",
    "    df_f = pd.concat([df_f, compute_fft_features(df_src,  60, vars)], axis=1)"
   ]
  },
  {
   "cell_type": "code",
   "execution_count": null,
   "metadata": {},
   "outputs": [],
   "source": [
    "df_f = pd.concat([df_f, compute_stat_features(df_src,  5)], axis=1)\n",
    "df_f = pd.concat([df_f, compute_stat_features(df_src, 10)], axis=1)\n",
    "df_f = pd.concat([df_f, compute_stat_features(df_src, 30)], axis=1)\n",
    "df_f = pd.concat([df_f, compute_stat_features(df_src, 60)], axis=1)"
   ]
  },
  {
   "cell_type": "code",
   "execution_count": null,
   "metadata": {},
   "outputs": [],
   "source": [
    "df_f = pd.concat([df_f, compute_ewm_features(df_src,  5)], axis=1)\n",
    "df_f = pd.concat([df_f, compute_ewm_features(df_src, 10)], axis=1)\n",
    "df_f = pd.concat([df_f, compute_ewm_features(df_src, 30)], axis=1)\n",
    "df_f = pd.concat([df_f, compute_ewm_features(df_src, 60)], axis=1)"
   ]
  },
  {
   "cell_type": "markdown",
   "metadata": {},
   "source": [
    "Compare the exponential moving average with the standard average:"
   ]
  },
  {
   "cell_type": "code",
   "execution_count": null,
   "metadata": {},
   "outputs": [],
   "source": [
    "(pd.concat([df_f, pd.DataFrame(np.arange(len(df_f)), columns=['t'])], axis=1)\n",
    "   .plot(x='t', y=['ABPSys', \n",
    "                   #'ABPSys_ewma_5',\n",
    "                   'ABPSys_ewma_60', 'ABPSys_mean_60'\n",
    "                  ],\n",
    "         figsize=(12,6)))"
   ]
  },
  {
   "cell_type": "markdown",
   "metadata": {},
   "source": [
    "***"
   ]
  },
  {
   "cell_type": "markdown",
   "metadata": {},
   "source": [
    "### Next Steps\n",
    "\n",
    " - univariate analysis\n",
    " - multivariate analysis\n",
    " - feature correlation\n",
    " - feature importance\n",
    " - grouping (t-SNE)"
   ]
  },
  {
   "cell_type": "markdown",
   "metadata": {},
   "source": [
    "For fun, let's plot the TSNE:"
   ]
  },
  {
   "cell_type": "code",
   "execution_count": null,
   "metadata": {},
   "outputs": [],
   "source": [
    "df_tsne = df_f.copy()\n",
    "df_tsne['hotn_target'] = df_hotn['hotn_target']"
   ]
  },
  {
   "cell_type": "code",
   "execution_count": null,
   "metadata": {},
   "outputs": [],
   "source": [
    "from sklearn.manifold import TSNE"
   ]
  },
  {
   "cell_type": "code",
   "execution_count": null,
   "metadata": {},
   "outputs": [],
   "source": [
    "emb = TSNE(n_components=2).fit_transform(df_tsne.fillna(value=0))\n",
    "\n",
    "x = emb[:, 0]\n",
    "y = emb[:, 1]\n",
    "c = np.where(df_tsne.hotn_target == 1, 'red', 'blue')"
   ]
  },
  {
   "cell_type": "code",
   "execution_count": null,
   "metadata": {},
   "outputs": [],
   "source": [
    "plt.scatter(x, y, c=c, alpha=0.25)"
   ]
  },
  {
   "cell_type": "code",
   "execution_count": null,
   "metadata": {},
   "outputs": [],
   "source": []
  }
 ],
 "metadata": {
  "kernelspec": {
   "display_name": "Python 3",
   "language": "python",
   "name": "python3"
  },
  "language_info": {
   "codemirror_mode": {
    "name": "ipython",
    "version": 3
   },
   "file_extension": ".py",
   "mimetype": "text/x-python",
   "name": "python",
   "nbconvert_exporter": "python",
   "pygments_lexer": "ipython3",
   "version": "3.8.5"
  }
 },
 "nbformat": 4,
 "nbformat_minor": 4
}
